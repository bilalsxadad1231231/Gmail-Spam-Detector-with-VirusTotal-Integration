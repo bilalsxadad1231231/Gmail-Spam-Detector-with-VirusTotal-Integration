{
  "nbformat": 4,
  "nbformat_minor": 0,
  "metadata": {
    "colab": {
      "provenance": [],
      "gpuType": "T4"
    },
    "kernelspec": {
      "name": "python3",
      "display_name": "Python 3"
    },
    "language_info": {
      "name": "python"
    },
    "accelerator": "GPU",
    "widgets": {
      "application/vnd.jupyter.widget-state+json": {
        "d0045402c23a48fe8c95487c1fb37d09": {
          "model_module": "@jupyter-widgets/controls",
          "model_name": "HBoxModel",
          "model_module_version": "1.5.0",
          "state": {
            "_dom_classes": [],
            "_model_module": "@jupyter-widgets/controls",
            "_model_module_version": "1.5.0",
            "_model_name": "HBoxModel",
            "_view_count": null,
            "_view_module": "@jupyter-widgets/controls",
            "_view_module_version": "1.5.0",
            "_view_name": "HBoxView",
            "box_style": "",
            "children": [
              "IPY_MODEL_bc6f0fc430e14896ad0ca275fd750792",
              "IPY_MODEL_2020c37c324b4fc5bd4c2066b5c0fc3f",
              "IPY_MODEL_dfaaf057d0f148eda1e51329c3c1b9b9"
            ],
            "layout": "IPY_MODEL_348f8b752a6b4c15bb2c0ddf2c699ed0"
          }
        },
        "bc6f0fc430e14896ad0ca275fd750792": {
          "model_module": "@jupyter-widgets/controls",
          "model_name": "HTMLModel",
          "model_module_version": "1.5.0",
          "state": {
            "_dom_classes": [],
            "_model_module": "@jupyter-widgets/controls",
            "_model_module_version": "1.5.0",
            "_model_name": "HTMLModel",
            "_view_count": null,
            "_view_module": "@jupyter-widgets/controls",
            "_view_module_version": "1.5.0",
            "_view_name": "HTMLView",
            "description": "",
            "description_tooltip": null,
            "layout": "IPY_MODEL_8fec8603ad3b4a19bc47f9ae9c148e85",
            "placeholder": "​",
            "style": "IPY_MODEL_ac2313b14e034f84a849ba6c713a6ec9",
            "value": "tokenizer_config.json: 100%"
          }
        },
        "2020c37c324b4fc5bd4c2066b5c0fc3f": {
          "model_module": "@jupyter-widgets/controls",
          "model_name": "FloatProgressModel",
          "model_module_version": "1.5.0",
          "state": {
            "_dom_classes": [],
            "_model_module": "@jupyter-widgets/controls",
            "_model_module_version": "1.5.0",
            "_model_name": "FloatProgressModel",
            "_view_count": null,
            "_view_module": "@jupyter-widgets/controls",
            "_view_module_version": "1.5.0",
            "_view_name": "ProgressView",
            "bar_style": "success",
            "description": "",
            "description_tooltip": null,
            "layout": "IPY_MODEL_dae95fbf37a54bd38bd6006360798fcf",
            "max": 48,
            "min": 0,
            "orientation": "horizontal",
            "style": "IPY_MODEL_eee6d928a99e49cf90ce32d21e097603",
            "value": 48
          }
        },
        "dfaaf057d0f148eda1e51329c3c1b9b9": {
          "model_module": "@jupyter-widgets/controls",
          "model_name": "HTMLModel",
          "model_module_version": "1.5.0",
          "state": {
            "_dom_classes": [],
            "_model_module": "@jupyter-widgets/controls",
            "_model_module_version": "1.5.0",
            "_model_name": "HTMLModel",
            "_view_count": null,
            "_view_module": "@jupyter-widgets/controls",
            "_view_module_version": "1.5.0",
            "_view_name": "HTMLView",
            "description": "",
            "description_tooltip": null,
            "layout": "IPY_MODEL_161918aa04a24c2b8eec7760fea0e90a",
            "placeholder": "​",
            "style": "IPY_MODEL_40f0ce3fab1c4fc0a2f33db62429b03a",
            "value": " 48.0/48.0 [00:00&lt;00:00, 4.81kB/s]"
          }
        },
        "348f8b752a6b4c15bb2c0ddf2c699ed0": {
          "model_module": "@jupyter-widgets/base",
          "model_name": "LayoutModel",
          "model_module_version": "1.2.0",
          "state": {
            "_model_module": "@jupyter-widgets/base",
            "_model_module_version": "1.2.0",
            "_model_name": "LayoutModel",
            "_view_count": null,
            "_view_module": "@jupyter-widgets/base",
            "_view_module_version": "1.2.0",
            "_view_name": "LayoutView",
            "align_content": null,
            "align_items": null,
            "align_self": null,
            "border": null,
            "bottom": null,
            "display": null,
            "flex": null,
            "flex_flow": null,
            "grid_area": null,
            "grid_auto_columns": null,
            "grid_auto_flow": null,
            "grid_auto_rows": null,
            "grid_column": null,
            "grid_gap": null,
            "grid_row": null,
            "grid_template_areas": null,
            "grid_template_columns": null,
            "grid_template_rows": null,
            "height": null,
            "justify_content": null,
            "justify_items": null,
            "left": null,
            "margin": null,
            "max_height": null,
            "max_width": null,
            "min_height": null,
            "min_width": null,
            "object_fit": null,
            "object_position": null,
            "order": null,
            "overflow": null,
            "overflow_x": null,
            "overflow_y": null,
            "padding": null,
            "right": null,
            "top": null,
            "visibility": null,
            "width": null
          }
        },
        "8fec8603ad3b4a19bc47f9ae9c148e85": {
          "model_module": "@jupyter-widgets/base",
          "model_name": "LayoutModel",
          "model_module_version": "1.2.0",
          "state": {
            "_model_module": "@jupyter-widgets/base",
            "_model_module_version": "1.2.0",
            "_model_name": "LayoutModel",
            "_view_count": null,
            "_view_module": "@jupyter-widgets/base",
            "_view_module_version": "1.2.0",
            "_view_name": "LayoutView",
            "align_content": null,
            "align_items": null,
            "align_self": null,
            "border": null,
            "bottom": null,
            "display": null,
            "flex": null,
            "flex_flow": null,
            "grid_area": null,
            "grid_auto_columns": null,
            "grid_auto_flow": null,
            "grid_auto_rows": null,
            "grid_column": null,
            "grid_gap": null,
            "grid_row": null,
            "grid_template_areas": null,
            "grid_template_columns": null,
            "grid_template_rows": null,
            "height": null,
            "justify_content": null,
            "justify_items": null,
            "left": null,
            "margin": null,
            "max_height": null,
            "max_width": null,
            "min_height": null,
            "min_width": null,
            "object_fit": null,
            "object_position": null,
            "order": null,
            "overflow": null,
            "overflow_x": null,
            "overflow_y": null,
            "padding": null,
            "right": null,
            "top": null,
            "visibility": null,
            "width": null
          }
        },
        "ac2313b14e034f84a849ba6c713a6ec9": {
          "model_module": "@jupyter-widgets/controls",
          "model_name": "DescriptionStyleModel",
          "model_module_version": "1.5.0",
          "state": {
            "_model_module": "@jupyter-widgets/controls",
            "_model_module_version": "1.5.0",
            "_model_name": "DescriptionStyleModel",
            "_view_count": null,
            "_view_module": "@jupyter-widgets/base",
            "_view_module_version": "1.2.0",
            "_view_name": "StyleView",
            "description_width": ""
          }
        },
        "dae95fbf37a54bd38bd6006360798fcf": {
          "model_module": "@jupyter-widgets/base",
          "model_name": "LayoutModel",
          "model_module_version": "1.2.0",
          "state": {
            "_model_module": "@jupyter-widgets/base",
            "_model_module_version": "1.2.0",
            "_model_name": "LayoutModel",
            "_view_count": null,
            "_view_module": "@jupyter-widgets/base",
            "_view_module_version": "1.2.0",
            "_view_name": "LayoutView",
            "align_content": null,
            "align_items": null,
            "align_self": null,
            "border": null,
            "bottom": null,
            "display": null,
            "flex": null,
            "flex_flow": null,
            "grid_area": null,
            "grid_auto_columns": null,
            "grid_auto_flow": null,
            "grid_auto_rows": null,
            "grid_column": null,
            "grid_gap": null,
            "grid_row": null,
            "grid_template_areas": null,
            "grid_template_columns": null,
            "grid_template_rows": null,
            "height": null,
            "justify_content": null,
            "justify_items": null,
            "left": null,
            "margin": null,
            "max_height": null,
            "max_width": null,
            "min_height": null,
            "min_width": null,
            "object_fit": null,
            "object_position": null,
            "order": null,
            "overflow": null,
            "overflow_x": null,
            "overflow_y": null,
            "padding": null,
            "right": null,
            "top": null,
            "visibility": null,
            "width": null
          }
        },
        "eee6d928a99e49cf90ce32d21e097603": {
          "model_module": "@jupyter-widgets/controls",
          "model_name": "ProgressStyleModel",
          "model_module_version": "1.5.0",
          "state": {
            "_model_module": "@jupyter-widgets/controls",
            "_model_module_version": "1.5.0",
            "_model_name": "ProgressStyleModel",
            "_view_count": null,
            "_view_module": "@jupyter-widgets/base",
            "_view_module_version": "1.2.0",
            "_view_name": "StyleView",
            "bar_color": null,
            "description_width": ""
          }
        },
        "161918aa04a24c2b8eec7760fea0e90a": {
          "model_module": "@jupyter-widgets/base",
          "model_name": "LayoutModel",
          "model_module_version": "1.2.0",
          "state": {
            "_model_module": "@jupyter-widgets/base",
            "_model_module_version": "1.2.0",
            "_model_name": "LayoutModel",
            "_view_count": null,
            "_view_module": "@jupyter-widgets/base",
            "_view_module_version": "1.2.0",
            "_view_name": "LayoutView",
            "align_content": null,
            "align_items": null,
            "align_self": null,
            "border": null,
            "bottom": null,
            "display": null,
            "flex": null,
            "flex_flow": null,
            "grid_area": null,
            "grid_auto_columns": null,
            "grid_auto_flow": null,
            "grid_auto_rows": null,
            "grid_column": null,
            "grid_gap": null,
            "grid_row": null,
            "grid_template_areas": null,
            "grid_template_columns": null,
            "grid_template_rows": null,
            "height": null,
            "justify_content": null,
            "justify_items": null,
            "left": null,
            "margin": null,
            "max_height": null,
            "max_width": null,
            "min_height": null,
            "min_width": null,
            "object_fit": null,
            "object_position": null,
            "order": null,
            "overflow": null,
            "overflow_x": null,
            "overflow_y": null,
            "padding": null,
            "right": null,
            "top": null,
            "visibility": null,
            "width": null
          }
        },
        "40f0ce3fab1c4fc0a2f33db62429b03a": {
          "model_module": "@jupyter-widgets/controls",
          "model_name": "DescriptionStyleModel",
          "model_module_version": "1.5.0",
          "state": {
            "_model_module": "@jupyter-widgets/controls",
            "_model_module_version": "1.5.0",
            "_model_name": "DescriptionStyleModel",
            "_view_count": null,
            "_view_module": "@jupyter-widgets/base",
            "_view_module_version": "1.2.0",
            "_view_name": "StyleView",
            "description_width": ""
          }
        },
        "3c4652cc0fac4c66832681565e249d41": {
          "model_module": "@jupyter-widgets/controls",
          "model_name": "HBoxModel",
          "model_module_version": "1.5.0",
          "state": {
            "_dom_classes": [],
            "_model_module": "@jupyter-widgets/controls",
            "_model_module_version": "1.5.0",
            "_model_name": "HBoxModel",
            "_view_count": null,
            "_view_module": "@jupyter-widgets/controls",
            "_view_module_version": "1.5.0",
            "_view_name": "HBoxView",
            "box_style": "",
            "children": [
              "IPY_MODEL_e94c094ca8a646239d64c738f8837af1",
              "IPY_MODEL_7c45b6276dba4cc995d32fc0b6cd2ddd",
              "IPY_MODEL_efb4a15243314621975f40cc680d4f10"
            ],
            "layout": "IPY_MODEL_f2020ec29896440c8e4dca2cba5c530a"
          }
        },
        "e94c094ca8a646239d64c738f8837af1": {
          "model_module": "@jupyter-widgets/controls",
          "model_name": "HTMLModel",
          "model_module_version": "1.5.0",
          "state": {
            "_dom_classes": [],
            "_model_module": "@jupyter-widgets/controls",
            "_model_module_version": "1.5.0",
            "_model_name": "HTMLModel",
            "_view_count": null,
            "_view_module": "@jupyter-widgets/controls",
            "_view_module_version": "1.5.0",
            "_view_name": "HTMLView",
            "description": "",
            "description_tooltip": null,
            "layout": "IPY_MODEL_9af1707ff29e4a46bcd3d5fdb6e37d5f",
            "placeholder": "​",
            "style": "IPY_MODEL_9f100d53abc342f3b2286b3bb81f4ffb",
            "value": "vocab.txt: 100%"
          }
        },
        "7c45b6276dba4cc995d32fc0b6cd2ddd": {
          "model_module": "@jupyter-widgets/controls",
          "model_name": "FloatProgressModel",
          "model_module_version": "1.5.0",
          "state": {
            "_dom_classes": [],
            "_model_module": "@jupyter-widgets/controls",
            "_model_module_version": "1.5.0",
            "_model_name": "FloatProgressModel",
            "_view_count": null,
            "_view_module": "@jupyter-widgets/controls",
            "_view_module_version": "1.5.0",
            "_view_name": "ProgressView",
            "bar_style": "success",
            "description": "",
            "description_tooltip": null,
            "layout": "IPY_MODEL_5e5eb7c62bc8465795f1e881b3f10078",
            "max": 231508,
            "min": 0,
            "orientation": "horizontal",
            "style": "IPY_MODEL_55d8b8eb78c249169009626440ee1402",
            "value": 231508
          }
        },
        "efb4a15243314621975f40cc680d4f10": {
          "model_module": "@jupyter-widgets/controls",
          "model_name": "HTMLModel",
          "model_module_version": "1.5.0",
          "state": {
            "_dom_classes": [],
            "_model_module": "@jupyter-widgets/controls",
            "_model_module_version": "1.5.0",
            "_model_name": "HTMLModel",
            "_view_count": null,
            "_view_module": "@jupyter-widgets/controls",
            "_view_module_version": "1.5.0",
            "_view_name": "HTMLView",
            "description": "",
            "description_tooltip": null,
            "layout": "IPY_MODEL_2d1156b269a54adc9c54bd0239f17de6",
            "placeholder": "​",
            "style": "IPY_MODEL_ad713f47cd654d9c9d61cd66ee194d6c",
            "value": " 232k/232k [00:00&lt;00:00, 3.15MB/s]"
          }
        },
        "f2020ec29896440c8e4dca2cba5c530a": {
          "model_module": "@jupyter-widgets/base",
          "model_name": "LayoutModel",
          "model_module_version": "1.2.0",
          "state": {
            "_model_module": "@jupyter-widgets/base",
            "_model_module_version": "1.2.0",
            "_model_name": "LayoutModel",
            "_view_count": null,
            "_view_module": "@jupyter-widgets/base",
            "_view_module_version": "1.2.0",
            "_view_name": "LayoutView",
            "align_content": null,
            "align_items": null,
            "align_self": null,
            "border": null,
            "bottom": null,
            "display": null,
            "flex": null,
            "flex_flow": null,
            "grid_area": null,
            "grid_auto_columns": null,
            "grid_auto_flow": null,
            "grid_auto_rows": null,
            "grid_column": null,
            "grid_gap": null,
            "grid_row": null,
            "grid_template_areas": null,
            "grid_template_columns": null,
            "grid_template_rows": null,
            "height": null,
            "justify_content": null,
            "justify_items": null,
            "left": null,
            "margin": null,
            "max_height": null,
            "max_width": null,
            "min_height": null,
            "min_width": null,
            "object_fit": null,
            "object_position": null,
            "order": null,
            "overflow": null,
            "overflow_x": null,
            "overflow_y": null,
            "padding": null,
            "right": null,
            "top": null,
            "visibility": null,
            "width": null
          }
        },
        "9af1707ff29e4a46bcd3d5fdb6e37d5f": {
          "model_module": "@jupyter-widgets/base",
          "model_name": "LayoutModel",
          "model_module_version": "1.2.0",
          "state": {
            "_model_module": "@jupyter-widgets/base",
            "_model_module_version": "1.2.0",
            "_model_name": "LayoutModel",
            "_view_count": null,
            "_view_module": "@jupyter-widgets/base",
            "_view_module_version": "1.2.0",
            "_view_name": "LayoutView",
            "align_content": null,
            "align_items": null,
            "align_self": null,
            "border": null,
            "bottom": null,
            "display": null,
            "flex": null,
            "flex_flow": null,
            "grid_area": null,
            "grid_auto_columns": null,
            "grid_auto_flow": null,
            "grid_auto_rows": null,
            "grid_column": null,
            "grid_gap": null,
            "grid_row": null,
            "grid_template_areas": null,
            "grid_template_columns": null,
            "grid_template_rows": null,
            "height": null,
            "justify_content": null,
            "justify_items": null,
            "left": null,
            "margin": null,
            "max_height": null,
            "max_width": null,
            "min_height": null,
            "min_width": null,
            "object_fit": null,
            "object_position": null,
            "order": null,
            "overflow": null,
            "overflow_x": null,
            "overflow_y": null,
            "padding": null,
            "right": null,
            "top": null,
            "visibility": null,
            "width": null
          }
        },
        "9f100d53abc342f3b2286b3bb81f4ffb": {
          "model_module": "@jupyter-widgets/controls",
          "model_name": "DescriptionStyleModel",
          "model_module_version": "1.5.0",
          "state": {
            "_model_module": "@jupyter-widgets/controls",
            "_model_module_version": "1.5.0",
            "_model_name": "DescriptionStyleModel",
            "_view_count": null,
            "_view_module": "@jupyter-widgets/base",
            "_view_module_version": "1.2.0",
            "_view_name": "StyleView",
            "description_width": ""
          }
        },
        "5e5eb7c62bc8465795f1e881b3f10078": {
          "model_module": "@jupyter-widgets/base",
          "model_name": "LayoutModel",
          "model_module_version": "1.2.0",
          "state": {
            "_model_module": "@jupyter-widgets/base",
            "_model_module_version": "1.2.0",
            "_model_name": "LayoutModel",
            "_view_count": null,
            "_view_module": "@jupyter-widgets/base",
            "_view_module_version": "1.2.0",
            "_view_name": "LayoutView",
            "align_content": null,
            "align_items": null,
            "align_self": null,
            "border": null,
            "bottom": null,
            "display": null,
            "flex": null,
            "flex_flow": null,
            "grid_area": null,
            "grid_auto_columns": null,
            "grid_auto_flow": null,
            "grid_auto_rows": null,
            "grid_column": null,
            "grid_gap": null,
            "grid_row": null,
            "grid_template_areas": null,
            "grid_template_columns": null,
            "grid_template_rows": null,
            "height": null,
            "justify_content": null,
            "justify_items": null,
            "left": null,
            "margin": null,
            "max_height": null,
            "max_width": null,
            "min_height": null,
            "min_width": null,
            "object_fit": null,
            "object_position": null,
            "order": null,
            "overflow": null,
            "overflow_x": null,
            "overflow_y": null,
            "padding": null,
            "right": null,
            "top": null,
            "visibility": null,
            "width": null
          }
        },
        "55d8b8eb78c249169009626440ee1402": {
          "model_module": "@jupyter-widgets/controls",
          "model_name": "ProgressStyleModel",
          "model_module_version": "1.5.0",
          "state": {
            "_model_module": "@jupyter-widgets/controls",
            "_model_module_version": "1.5.0",
            "_model_name": "ProgressStyleModel",
            "_view_count": null,
            "_view_module": "@jupyter-widgets/base",
            "_view_module_version": "1.2.0",
            "_view_name": "StyleView",
            "bar_color": null,
            "description_width": ""
          }
        },
        "2d1156b269a54adc9c54bd0239f17de6": {
          "model_module": "@jupyter-widgets/base",
          "model_name": "LayoutModel",
          "model_module_version": "1.2.0",
          "state": {
            "_model_module": "@jupyter-widgets/base",
            "_model_module_version": "1.2.0",
            "_model_name": "LayoutModel",
            "_view_count": null,
            "_view_module": "@jupyter-widgets/base",
            "_view_module_version": "1.2.0",
            "_view_name": "LayoutView",
            "align_content": null,
            "align_items": null,
            "align_self": null,
            "border": null,
            "bottom": null,
            "display": null,
            "flex": null,
            "flex_flow": null,
            "grid_area": null,
            "grid_auto_columns": null,
            "grid_auto_flow": null,
            "grid_auto_rows": null,
            "grid_column": null,
            "grid_gap": null,
            "grid_row": null,
            "grid_template_areas": null,
            "grid_template_columns": null,
            "grid_template_rows": null,
            "height": null,
            "justify_content": null,
            "justify_items": null,
            "left": null,
            "margin": null,
            "max_height": null,
            "max_width": null,
            "min_height": null,
            "min_width": null,
            "object_fit": null,
            "object_position": null,
            "order": null,
            "overflow": null,
            "overflow_x": null,
            "overflow_y": null,
            "padding": null,
            "right": null,
            "top": null,
            "visibility": null,
            "width": null
          }
        },
        "ad713f47cd654d9c9d61cd66ee194d6c": {
          "model_module": "@jupyter-widgets/controls",
          "model_name": "DescriptionStyleModel",
          "model_module_version": "1.5.0",
          "state": {
            "_model_module": "@jupyter-widgets/controls",
            "_model_module_version": "1.5.0",
            "_model_name": "DescriptionStyleModel",
            "_view_count": null,
            "_view_module": "@jupyter-widgets/base",
            "_view_module_version": "1.2.0",
            "_view_name": "StyleView",
            "description_width": ""
          }
        },
        "e19bfd837a964c5f9a62d6e69b5f76e2": {
          "model_module": "@jupyter-widgets/controls",
          "model_name": "HBoxModel",
          "model_module_version": "1.5.0",
          "state": {
            "_dom_classes": [],
            "_model_module": "@jupyter-widgets/controls",
            "_model_module_version": "1.5.0",
            "_model_name": "HBoxModel",
            "_view_count": null,
            "_view_module": "@jupyter-widgets/controls",
            "_view_module_version": "1.5.0",
            "_view_name": "HBoxView",
            "box_style": "",
            "children": [
              "IPY_MODEL_e52facc1fad94e60a889aa0b351a199c",
              "IPY_MODEL_813d580e547149459969fe882a895eb7",
              "IPY_MODEL_2b266c44d005426f8e6905f113a9d695"
            ],
            "layout": "IPY_MODEL_bbe83085d9094aa2a040341e0d226ada"
          }
        },
        "e52facc1fad94e60a889aa0b351a199c": {
          "model_module": "@jupyter-widgets/controls",
          "model_name": "HTMLModel",
          "model_module_version": "1.5.0",
          "state": {
            "_dom_classes": [],
            "_model_module": "@jupyter-widgets/controls",
            "_model_module_version": "1.5.0",
            "_model_name": "HTMLModel",
            "_view_count": null,
            "_view_module": "@jupyter-widgets/controls",
            "_view_module_version": "1.5.0",
            "_view_name": "HTMLView",
            "description": "",
            "description_tooltip": null,
            "layout": "IPY_MODEL_00b081f382b04495959b067f2e08a268",
            "placeholder": "​",
            "style": "IPY_MODEL_7916e8ded1ca4612a4b766f0b71cd95c",
            "value": "tokenizer.json: 100%"
          }
        },
        "813d580e547149459969fe882a895eb7": {
          "model_module": "@jupyter-widgets/controls",
          "model_name": "FloatProgressModel",
          "model_module_version": "1.5.0",
          "state": {
            "_dom_classes": [],
            "_model_module": "@jupyter-widgets/controls",
            "_model_module_version": "1.5.0",
            "_model_name": "FloatProgressModel",
            "_view_count": null,
            "_view_module": "@jupyter-widgets/controls",
            "_view_module_version": "1.5.0",
            "_view_name": "ProgressView",
            "bar_style": "success",
            "description": "",
            "description_tooltip": null,
            "layout": "IPY_MODEL_3dfac7c022b1492fb585c36398b05e51",
            "max": 466062,
            "min": 0,
            "orientation": "horizontal",
            "style": "IPY_MODEL_cdf81398298443a49ffa0b594b44e96c",
            "value": 466062
          }
        },
        "2b266c44d005426f8e6905f113a9d695": {
          "model_module": "@jupyter-widgets/controls",
          "model_name": "HTMLModel",
          "model_module_version": "1.5.0",
          "state": {
            "_dom_classes": [],
            "_model_module": "@jupyter-widgets/controls",
            "_model_module_version": "1.5.0",
            "_model_name": "HTMLModel",
            "_view_count": null,
            "_view_module": "@jupyter-widgets/controls",
            "_view_module_version": "1.5.0",
            "_view_name": "HTMLView",
            "description": "",
            "description_tooltip": null,
            "layout": "IPY_MODEL_30f64f8bcfda4aa0b73b9db6694bd1fb",
            "placeholder": "​",
            "style": "IPY_MODEL_306972b0fadc48f7b1aa1d5dc351cdb0",
            "value": " 466k/466k [00:00&lt;00:00, 3.80MB/s]"
          }
        },
        "bbe83085d9094aa2a040341e0d226ada": {
          "model_module": "@jupyter-widgets/base",
          "model_name": "LayoutModel",
          "model_module_version": "1.2.0",
          "state": {
            "_model_module": "@jupyter-widgets/base",
            "_model_module_version": "1.2.0",
            "_model_name": "LayoutModel",
            "_view_count": null,
            "_view_module": "@jupyter-widgets/base",
            "_view_module_version": "1.2.0",
            "_view_name": "LayoutView",
            "align_content": null,
            "align_items": null,
            "align_self": null,
            "border": null,
            "bottom": null,
            "display": null,
            "flex": null,
            "flex_flow": null,
            "grid_area": null,
            "grid_auto_columns": null,
            "grid_auto_flow": null,
            "grid_auto_rows": null,
            "grid_column": null,
            "grid_gap": null,
            "grid_row": null,
            "grid_template_areas": null,
            "grid_template_columns": null,
            "grid_template_rows": null,
            "height": null,
            "justify_content": null,
            "justify_items": null,
            "left": null,
            "margin": null,
            "max_height": null,
            "max_width": null,
            "min_height": null,
            "min_width": null,
            "object_fit": null,
            "object_position": null,
            "order": null,
            "overflow": null,
            "overflow_x": null,
            "overflow_y": null,
            "padding": null,
            "right": null,
            "top": null,
            "visibility": null,
            "width": null
          }
        },
        "00b081f382b04495959b067f2e08a268": {
          "model_module": "@jupyter-widgets/base",
          "model_name": "LayoutModel",
          "model_module_version": "1.2.0",
          "state": {
            "_model_module": "@jupyter-widgets/base",
            "_model_module_version": "1.2.0",
            "_model_name": "LayoutModel",
            "_view_count": null,
            "_view_module": "@jupyter-widgets/base",
            "_view_module_version": "1.2.0",
            "_view_name": "LayoutView",
            "align_content": null,
            "align_items": null,
            "align_self": null,
            "border": null,
            "bottom": null,
            "display": null,
            "flex": null,
            "flex_flow": null,
            "grid_area": null,
            "grid_auto_columns": null,
            "grid_auto_flow": null,
            "grid_auto_rows": null,
            "grid_column": null,
            "grid_gap": null,
            "grid_row": null,
            "grid_template_areas": null,
            "grid_template_columns": null,
            "grid_template_rows": null,
            "height": null,
            "justify_content": null,
            "justify_items": null,
            "left": null,
            "margin": null,
            "max_height": null,
            "max_width": null,
            "min_height": null,
            "min_width": null,
            "object_fit": null,
            "object_position": null,
            "order": null,
            "overflow": null,
            "overflow_x": null,
            "overflow_y": null,
            "padding": null,
            "right": null,
            "top": null,
            "visibility": null,
            "width": null
          }
        },
        "7916e8ded1ca4612a4b766f0b71cd95c": {
          "model_module": "@jupyter-widgets/controls",
          "model_name": "DescriptionStyleModel",
          "model_module_version": "1.5.0",
          "state": {
            "_model_module": "@jupyter-widgets/controls",
            "_model_module_version": "1.5.0",
            "_model_name": "DescriptionStyleModel",
            "_view_count": null,
            "_view_module": "@jupyter-widgets/base",
            "_view_module_version": "1.2.0",
            "_view_name": "StyleView",
            "description_width": ""
          }
        },
        "3dfac7c022b1492fb585c36398b05e51": {
          "model_module": "@jupyter-widgets/base",
          "model_name": "LayoutModel",
          "model_module_version": "1.2.0",
          "state": {
            "_model_module": "@jupyter-widgets/base",
            "_model_module_version": "1.2.0",
            "_model_name": "LayoutModel",
            "_view_count": null,
            "_view_module": "@jupyter-widgets/base",
            "_view_module_version": "1.2.0",
            "_view_name": "LayoutView",
            "align_content": null,
            "align_items": null,
            "align_self": null,
            "border": null,
            "bottom": null,
            "display": null,
            "flex": null,
            "flex_flow": null,
            "grid_area": null,
            "grid_auto_columns": null,
            "grid_auto_flow": null,
            "grid_auto_rows": null,
            "grid_column": null,
            "grid_gap": null,
            "grid_row": null,
            "grid_template_areas": null,
            "grid_template_columns": null,
            "grid_template_rows": null,
            "height": null,
            "justify_content": null,
            "justify_items": null,
            "left": null,
            "margin": null,
            "max_height": null,
            "max_width": null,
            "min_height": null,
            "min_width": null,
            "object_fit": null,
            "object_position": null,
            "order": null,
            "overflow": null,
            "overflow_x": null,
            "overflow_y": null,
            "padding": null,
            "right": null,
            "top": null,
            "visibility": null,
            "width": null
          }
        },
        "cdf81398298443a49ffa0b594b44e96c": {
          "model_module": "@jupyter-widgets/controls",
          "model_name": "ProgressStyleModel",
          "model_module_version": "1.5.0",
          "state": {
            "_model_module": "@jupyter-widgets/controls",
            "_model_module_version": "1.5.0",
            "_model_name": "ProgressStyleModel",
            "_view_count": null,
            "_view_module": "@jupyter-widgets/base",
            "_view_module_version": "1.2.0",
            "_view_name": "StyleView",
            "bar_color": null,
            "description_width": ""
          }
        },
        "30f64f8bcfda4aa0b73b9db6694bd1fb": {
          "model_module": "@jupyter-widgets/base",
          "model_name": "LayoutModel",
          "model_module_version": "1.2.0",
          "state": {
            "_model_module": "@jupyter-widgets/base",
            "_model_module_version": "1.2.0",
            "_model_name": "LayoutModel",
            "_view_count": null,
            "_view_module": "@jupyter-widgets/base",
            "_view_module_version": "1.2.0",
            "_view_name": "LayoutView",
            "align_content": null,
            "align_items": null,
            "align_self": null,
            "border": null,
            "bottom": null,
            "display": null,
            "flex": null,
            "flex_flow": null,
            "grid_area": null,
            "grid_auto_columns": null,
            "grid_auto_flow": null,
            "grid_auto_rows": null,
            "grid_column": null,
            "grid_gap": null,
            "grid_row": null,
            "grid_template_areas": null,
            "grid_template_columns": null,
            "grid_template_rows": null,
            "height": null,
            "justify_content": null,
            "justify_items": null,
            "left": null,
            "margin": null,
            "max_height": null,
            "max_width": null,
            "min_height": null,
            "min_width": null,
            "object_fit": null,
            "object_position": null,
            "order": null,
            "overflow": null,
            "overflow_x": null,
            "overflow_y": null,
            "padding": null,
            "right": null,
            "top": null,
            "visibility": null,
            "width": null
          }
        },
        "306972b0fadc48f7b1aa1d5dc351cdb0": {
          "model_module": "@jupyter-widgets/controls",
          "model_name": "DescriptionStyleModel",
          "model_module_version": "1.5.0",
          "state": {
            "_model_module": "@jupyter-widgets/controls",
            "_model_module_version": "1.5.0",
            "_model_name": "DescriptionStyleModel",
            "_view_count": null,
            "_view_module": "@jupyter-widgets/base",
            "_view_module_version": "1.2.0",
            "_view_name": "StyleView",
            "description_width": ""
          }
        },
        "8aab54ffa2314604b0775b7735ffae77": {
          "model_module": "@jupyter-widgets/controls",
          "model_name": "HBoxModel",
          "model_module_version": "1.5.0",
          "state": {
            "_dom_classes": [],
            "_model_module": "@jupyter-widgets/controls",
            "_model_module_version": "1.5.0",
            "_model_name": "HBoxModel",
            "_view_count": null,
            "_view_module": "@jupyter-widgets/controls",
            "_view_module_version": "1.5.0",
            "_view_name": "HBoxView",
            "box_style": "",
            "children": [
              "IPY_MODEL_f0c5c2bf07d74b43808dcac395520c4d",
              "IPY_MODEL_4ea4426c35264d9bb311b8e81494e6d4",
              "IPY_MODEL_dd97dfd312004402bd2a656d3f1d3d73"
            ],
            "layout": "IPY_MODEL_490bc0ed2c434ff689cb90b5df4b3296"
          }
        },
        "f0c5c2bf07d74b43808dcac395520c4d": {
          "model_module": "@jupyter-widgets/controls",
          "model_name": "HTMLModel",
          "model_module_version": "1.5.0",
          "state": {
            "_dom_classes": [],
            "_model_module": "@jupyter-widgets/controls",
            "_model_module_version": "1.5.0",
            "_model_name": "HTMLModel",
            "_view_count": null,
            "_view_module": "@jupyter-widgets/controls",
            "_view_module_version": "1.5.0",
            "_view_name": "HTMLView",
            "description": "",
            "description_tooltip": null,
            "layout": "IPY_MODEL_78023fa207ed4f29a8336dd06e00ad3f",
            "placeholder": "​",
            "style": "IPY_MODEL_604a165a1fdb480fae10e244fb0d4d86",
            "value": "config.json: 100%"
          }
        },
        "4ea4426c35264d9bb311b8e81494e6d4": {
          "model_module": "@jupyter-widgets/controls",
          "model_name": "FloatProgressModel",
          "model_module_version": "1.5.0",
          "state": {
            "_dom_classes": [],
            "_model_module": "@jupyter-widgets/controls",
            "_model_module_version": "1.5.0",
            "_model_name": "FloatProgressModel",
            "_view_count": null,
            "_view_module": "@jupyter-widgets/controls",
            "_view_module_version": "1.5.0",
            "_view_name": "ProgressView",
            "bar_style": "success",
            "description": "",
            "description_tooltip": null,
            "layout": "IPY_MODEL_005b9a75776e4ec6aeb8db1d70c1c83d",
            "max": 570,
            "min": 0,
            "orientation": "horizontal",
            "style": "IPY_MODEL_dba6d26da27e47b3970f013965542dc5",
            "value": 570
          }
        },
        "dd97dfd312004402bd2a656d3f1d3d73": {
          "model_module": "@jupyter-widgets/controls",
          "model_name": "HTMLModel",
          "model_module_version": "1.5.0",
          "state": {
            "_dom_classes": [],
            "_model_module": "@jupyter-widgets/controls",
            "_model_module_version": "1.5.0",
            "_model_name": "HTMLModel",
            "_view_count": null,
            "_view_module": "@jupyter-widgets/controls",
            "_view_module_version": "1.5.0",
            "_view_name": "HTMLView",
            "description": "",
            "description_tooltip": null,
            "layout": "IPY_MODEL_109717043e9e43c7b2b64e193fb1a440",
            "placeholder": "​",
            "style": "IPY_MODEL_214754a52c6c4ca9816455c8c4764021",
            "value": " 570/570 [00:00&lt;00:00, 57.8kB/s]"
          }
        },
        "490bc0ed2c434ff689cb90b5df4b3296": {
          "model_module": "@jupyter-widgets/base",
          "model_name": "LayoutModel",
          "model_module_version": "1.2.0",
          "state": {
            "_model_module": "@jupyter-widgets/base",
            "_model_module_version": "1.2.0",
            "_model_name": "LayoutModel",
            "_view_count": null,
            "_view_module": "@jupyter-widgets/base",
            "_view_module_version": "1.2.0",
            "_view_name": "LayoutView",
            "align_content": null,
            "align_items": null,
            "align_self": null,
            "border": null,
            "bottom": null,
            "display": null,
            "flex": null,
            "flex_flow": null,
            "grid_area": null,
            "grid_auto_columns": null,
            "grid_auto_flow": null,
            "grid_auto_rows": null,
            "grid_column": null,
            "grid_gap": null,
            "grid_row": null,
            "grid_template_areas": null,
            "grid_template_columns": null,
            "grid_template_rows": null,
            "height": null,
            "justify_content": null,
            "justify_items": null,
            "left": null,
            "margin": null,
            "max_height": null,
            "max_width": null,
            "min_height": null,
            "min_width": null,
            "object_fit": null,
            "object_position": null,
            "order": null,
            "overflow": null,
            "overflow_x": null,
            "overflow_y": null,
            "padding": null,
            "right": null,
            "top": null,
            "visibility": null,
            "width": null
          }
        },
        "78023fa207ed4f29a8336dd06e00ad3f": {
          "model_module": "@jupyter-widgets/base",
          "model_name": "LayoutModel",
          "model_module_version": "1.2.0",
          "state": {
            "_model_module": "@jupyter-widgets/base",
            "_model_module_version": "1.2.0",
            "_model_name": "LayoutModel",
            "_view_count": null,
            "_view_module": "@jupyter-widgets/base",
            "_view_module_version": "1.2.0",
            "_view_name": "LayoutView",
            "align_content": null,
            "align_items": null,
            "align_self": null,
            "border": null,
            "bottom": null,
            "display": null,
            "flex": null,
            "flex_flow": null,
            "grid_area": null,
            "grid_auto_columns": null,
            "grid_auto_flow": null,
            "grid_auto_rows": null,
            "grid_column": null,
            "grid_gap": null,
            "grid_row": null,
            "grid_template_areas": null,
            "grid_template_columns": null,
            "grid_template_rows": null,
            "height": null,
            "justify_content": null,
            "justify_items": null,
            "left": null,
            "margin": null,
            "max_height": null,
            "max_width": null,
            "min_height": null,
            "min_width": null,
            "object_fit": null,
            "object_position": null,
            "order": null,
            "overflow": null,
            "overflow_x": null,
            "overflow_y": null,
            "padding": null,
            "right": null,
            "top": null,
            "visibility": null,
            "width": null
          }
        },
        "604a165a1fdb480fae10e244fb0d4d86": {
          "model_module": "@jupyter-widgets/controls",
          "model_name": "DescriptionStyleModel",
          "model_module_version": "1.5.0",
          "state": {
            "_model_module": "@jupyter-widgets/controls",
            "_model_module_version": "1.5.0",
            "_model_name": "DescriptionStyleModel",
            "_view_count": null,
            "_view_module": "@jupyter-widgets/base",
            "_view_module_version": "1.2.0",
            "_view_name": "StyleView",
            "description_width": ""
          }
        },
        "005b9a75776e4ec6aeb8db1d70c1c83d": {
          "model_module": "@jupyter-widgets/base",
          "model_name": "LayoutModel",
          "model_module_version": "1.2.0",
          "state": {
            "_model_module": "@jupyter-widgets/base",
            "_model_module_version": "1.2.0",
            "_model_name": "LayoutModel",
            "_view_count": null,
            "_view_module": "@jupyter-widgets/base",
            "_view_module_version": "1.2.0",
            "_view_name": "LayoutView",
            "align_content": null,
            "align_items": null,
            "align_self": null,
            "border": null,
            "bottom": null,
            "display": null,
            "flex": null,
            "flex_flow": null,
            "grid_area": null,
            "grid_auto_columns": null,
            "grid_auto_flow": null,
            "grid_auto_rows": null,
            "grid_column": null,
            "grid_gap": null,
            "grid_row": null,
            "grid_template_areas": null,
            "grid_template_columns": null,
            "grid_template_rows": null,
            "height": null,
            "justify_content": null,
            "justify_items": null,
            "left": null,
            "margin": null,
            "max_height": null,
            "max_width": null,
            "min_height": null,
            "min_width": null,
            "object_fit": null,
            "object_position": null,
            "order": null,
            "overflow": null,
            "overflow_x": null,
            "overflow_y": null,
            "padding": null,
            "right": null,
            "top": null,
            "visibility": null,
            "width": null
          }
        },
        "dba6d26da27e47b3970f013965542dc5": {
          "model_module": "@jupyter-widgets/controls",
          "model_name": "ProgressStyleModel",
          "model_module_version": "1.5.0",
          "state": {
            "_model_module": "@jupyter-widgets/controls",
            "_model_module_version": "1.5.0",
            "_model_name": "ProgressStyleModel",
            "_view_count": null,
            "_view_module": "@jupyter-widgets/base",
            "_view_module_version": "1.2.0",
            "_view_name": "StyleView",
            "bar_color": null,
            "description_width": ""
          }
        },
        "109717043e9e43c7b2b64e193fb1a440": {
          "model_module": "@jupyter-widgets/base",
          "model_name": "LayoutModel",
          "model_module_version": "1.2.0",
          "state": {
            "_model_module": "@jupyter-widgets/base",
            "_model_module_version": "1.2.0",
            "_model_name": "LayoutModel",
            "_view_count": null,
            "_view_module": "@jupyter-widgets/base",
            "_view_module_version": "1.2.0",
            "_view_name": "LayoutView",
            "align_content": null,
            "align_items": null,
            "align_self": null,
            "border": null,
            "bottom": null,
            "display": null,
            "flex": null,
            "flex_flow": null,
            "grid_area": null,
            "grid_auto_columns": null,
            "grid_auto_flow": null,
            "grid_auto_rows": null,
            "grid_column": null,
            "grid_gap": null,
            "grid_row": null,
            "grid_template_areas": null,
            "grid_template_columns": null,
            "grid_template_rows": null,
            "height": null,
            "justify_content": null,
            "justify_items": null,
            "left": null,
            "margin": null,
            "max_height": null,
            "max_width": null,
            "min_height": null,
            "min_width": null,
            "object_fit": null,
            "object_position": null,
            "order": null,
            "overflow": null,
            "overflow_x": null,
            "overflow_y": null,
            "padding": null,
            "right": null,
            "top": null,
            "visibility": null,
            "width": null
          }
        },
        "214754a52c6c4ca9816455c8c4764021": {
          "model_module": "@jupyter-widgets/controls",
          "model_name": "DescriptionStyleModel",
          "model_module_version": "1.5.0",
          "state": {
            "_model_module": "@jupyter-widgets/controls",
            "_model_module_version": "1.5.0",
            "_model_name": "DescriptionStyleModel",
            "_view_count": null,
            "_view_module": "@jupyter-widgets/base",
            "_view_module_version": "1.2.0",
            "_view_name": "StyleView",
            "description_width": ""
          }
        },
        "7724d9739241439a941dab7390eaeeb1": {
          "model_module": "@jupyter-widgets/controls",
          "model_name": "HBoxModel",
          "model_module_version": "1.5.0",
          "state": {
            "_dom_classes": [],
            "_model_module": "@jupyter-widgets/controls",
            "_model_module_version": "1.5.0",
            "_model_name": "HBoxModel",
            "_view_count": null,
            "_view_module": "@jupyter-widgets/controls",
            "_view_module_version": "1.5.0",
            "_view_name": "HBoxView",
            "box_style": "",
            "children": [
              "IPY_MODEL_ba3d60e5ec68473e8a036176c1db1f73",
              "IPY_MODEL_af65d419c8bc41208bc7f0eb3bb1ed4c",
              "IPY_MODEL_9c3d382819c647fa9bbae0a59d4b2414"
            ],
            "layout": "IPY_MODEL_0ca2c8368e7c48d587ebd7f9e93d78d9"
          }
        },
        "ba3d60e5ec68473e8a036176c1db1f73": {
          "model_module": "@jupyter-widgets/controls",
          "model_name": "HTMLModel",
          "model_module_version": "1.5.0",
          "state": {
            "_dom_classes": [],
            "_model_module": "@jupyter-widgets/controls",
            "_model_module_version": "1.5.0",
            "_model_name": "HTMLModel",
            "_view_count": null,
            "_view_module": "@jupyter-widgets/controls",
            "_view_module_version": "1.5.0",
            "_view_name": "HTMLView",
            "description": "",
            "description_tooltip": null,
            "layout": "IPY_MODEL_5061c7d0790c47e69b078cb4dbe8ab78",
            "placeholder": "​",
            "style": "IPY_MODEL_1358c124540e49f199e10f5c96203e23",
            "value": "model.safetensors: 100%"
          }
        },
        "af65d419c8bc41208bc7f0eb3bb1ed4c": {
          "model_module": "@jupyter-widgets/controls",
          "model_name": "FloatProgressModel",
          "model_module_version": "1.5.0",
          "state": {
            "_dom_classes": [],
            "_model_module": "@jupyter-widgets/controls",
            "_model_module_version": "1.5.0",
            "_model_name": "FloatProgressModel",
            "_view_count": null,
            "_view_module": "@jupyter-widgets/controls",
            "_view_module_version": "1.5.0",
            "_view_name": "ProgressView",
            "bar_style": "success",
            "description": "",
            "description_tooltip": null,
            "layout": "IPY_MODEL_efae854f6050402aa0fdcedc3825f102",
            "max": 440449768,
            "min": 0,
            "orientation": "horizontal",
            "style": "IPY_MODEL_5a871236e5914611a432dc1d49df274b",
            "value": 440449768
          }
        },
        "9c3d382819c647fa9bbae0a59d4b2414": {
          "model_module": "@jupyter-widgets/controls",
          "model_name": "HTMLModel",
          "model_module_version": "1.5.0",
          "state": {
            "_dom_classes": [],
            "_model_module": "@jupyter-widgets/controls",
            "_model_module_version": "1.5.0",
            "_model_name": "HTMLModel",
            "_view_count": null,
            "_view_module": "@jupyter-widgets/controls",
            "_view_module_version": "1.5.0",
            "_view_name": "HTMLView",
            "description": "",
            "description_tooltip": null,
            "layout": "IPY_MODEL_aa0464a8764549a48f47073406bc88b9",
            "placeholder": "​",
            "style": "IPY_MODEL_b0a811fc8d294fe2959bc3b2de8ddcf2",
            "value": " 440M/440M [00:03&lt;00:00, 202MB/s]"
          }
        },
        "0ca2c8368e7c48d587ebd7f9e93d78d9": {
          "model_module": "@jupyter-widgets/base",
          "model_name": "LayoutModel",
          "model_module_version": "1.2.0",
          "state": {
            "_model_module": "@jupyter-widgets/base",
            "_model_module_version": "1.2.0",
            "_model_name": "LayoutModel",
            "_view_count": null,
            "_view_module": "@jupyter-widgets/base",
            "_view_module_version": "1.2.0",
            "_view_name": "LayoutView",
            "align_content": null,
            "align_items": null,
            "align_self": null,
            "border": null,
            "bottom": null,
            "display": null,
            "flex": null,
            "flex_flow": null,
            "grid_area": null,
            "grid_auto_columns": null,
            "grid_auto_flow": null,
            "grid_auto_rows": null,
            "grid_column": null,
            "grid_gap": null,
            "grid_row": null,
            "grid_template_areas": null,
            "grid_template_columns": null,
            "grid_template_rows": null,
            "height": null,
            "justify_content": null,
            "justify_items": null,
            "left": null,
            "margin": null,
            "max_height": null,
            "max_width": null,
            "min_height": null,
            "min_width": null,
            "object_fit": null,
            "object_position": null,
            "order": null,
            "overflow": null,
            "overflow_x": null,
            "overflow_y": null,
            "padding": null,
            "right": null,
            "top": null,
            "visibility": null,
            "width": null
          }
        },
        "5061c7d0790c47e69b078cb4dbe8ab78": {
          "model_module": "@jupyter-widgets/base",
          "model_name": "LayoutModel",
          "model_module_version": "1.2.0",
          "state": {
            "_model_module": "@jupyter-widgets/base",
            "_model_module_version": "1.2.0",
            "_model_name": "LayoutModel",
            "_view_count": null,
            "_view_module": "@jupyter-widgets/base",
            "_view_module_version": "1.2.0",
            "_view_name": "LayoutView",
            "align_content": null,
            "align_items": null,
            "align_self": null,
            "border": null,
            "bottom": null,
            "display": null,
            "flex": null,
            "flex_flow": null,
            "grid_area": null,
            "grid_auto_columns": null,
            "grid_auto_flow": null,
            "grid_auto_rows": null,
            "grid_column": null,
            "grid_gap": null,
            "grid_row": null,
            "grid_template_areas": null,
            "grid_template_columns": null,
            "grid_template_rows": null,
            "height": null,
            "justify_content": null,
            "justify_items": null,
            "left": null,
            "margin": null,
            "max_height": null,
            "max_width": null,
            "min_height": null,
            "min_width": null,
            "object_fit": null,
            "object_position": null,
            "order": null,
            "overflow": null,
            "overflow_x": null,
            "overflow_y": null,
            "padding": null,
            "right": null,
            "top": null,
            "visibility": null,
            "width": null
          }
        },
        "1358c124540e49f199e10f5c96203e23": {
          "model_module": "@jupyter-widgets/controls",
          "model_name": "DescriptionStyleModel",
          "model_module_version": "1.5.0",
          "state": {
            "_model_module": "@jupyter-widgets/controls",
            "_model_module_version": "1.5.0",
            "_model_name": "DescriptionStyleModel",
            "_view_count": null,
            "_view_module": "@jupyter-widgets/base",
            "_view_module_version": "1.2.0",
            "_view_name": "StyleView",
            "description_width": ""
          }
        },
        "efae854f6050402aa0fdcedc3825f102": {
          "model_module": "@jupyter-widgets/base",
          "model_name": "LayoutModel",
          "model_module_version": "1.2.0",
          "state": {
            "_model_module": "@jupyter-widgets/base",
            "_model_module_version": "1.2.0",
            "_model_name": "LayoutModel",
            "_view_count": null,
            "_view_module": "@jupyter-widgets/base",
            "_view_module_version": "1.2.0",
            "_view_name": "LayoutView",
            "align_content": null,
            "align_items": null,
            "align_self": null,
            "border": null,
            "bottom": null,
            "display": null,
            "flex": null,
            "flex_flow": null,
            "grid_area": null,
            "grid_auto_columns": null,
            "grid_auto_flow": null,
            "grid_auto_rows": null,
            "grid_column": null,
            "grid_gap": null,
            "grid_row": null,
            "grid_template_areas": null,
            "grid_template_columns": null,
            "grid_template_rows": null,
            "height": null,
            "justify_content": null,
            "justify_items": null,
            "left": null,
            "margin": null,
            "max_height": null,
            "max_width": null,
            "min_height": null,
            "min_width": null,
            "object_fit": null,
            "object_position": null,
            "order": null,
            "overflow": null,
            "overflow_x": null,
            "overflow_y": null,
            "padding": null,
            "right": null,
            "top": null,
            "visibility": null,
            "width": null
          }
        },
        "5a871236e5914611a432dc1d49df274b": {
          "model_module": "@jupyter-widgets/controls",
          "model_name": "ProgressStyleModel",
          "model_module_version": "1.5.0",
          "state": {
            "_model_module": "@jupyter-widgets/controls",
            "_model_module_version": "1.5.0",
            "_model_name": "ProgressStyleModel",
            "_view_count": null,
            "_view_module": "@jupyter-widgets/base",
            "_view_module_version": "1.2.0",
            "_view_name": "StyleView",
            "bar_color": null,
            "description_width": ""
          }
        },
        "aa0464a8764549a48f47073406bc88b9": {
          "model_module": "@jupyter-widgets/base",
          "model_name": "LayoutModel",
          "model_module_version": "1.2.0",
          "state": {
            "_model_module": "@jupyter-widgets/base",
            "_model_module_version": "1.2.0",
            "_model_name": "LayoutModel",
            "_view_count": null,
            "_view_module": "@jupyter-widgets/base",
            "_view_module_version": "1.2.0",
            "_view_name": "LayoutView",
            "align_content": null,
            "align_items": null,
            "align_self": null,
            "border": null,
            "bottom": null,
            "display": null,
            "flex": null,
            "flex_flow": null,
            "grid_area": null,
            "grid_auto_columns": null,
            "grid_auto_flow": null,
            "grid_auto_rows": null,
            "grid_column": null,
            "grid_gap": null,
            "grid_row": null,
            "grid_template_areas": null,
            "grid_template_columns": null,
            "grid_template_rows": null,
            "height": null,
            "justify_content": null,
            "justify_items": null,
            "left": null,
            "margin": null,
            "max_height": null,
            "max_width": null,
            "min_height": null,
            "min_width": null,
            "object_fit": null,
            "object_position": null,
            "order": null,
            "overflow": null,
            "overflow_x": null,
            "overflow_y": null,
            "padding": null,
            "right": null,
            "top": null,
            "visibility": null,
            "width": null
          }
        },
        "b0a811fc8d294fe2959bc3b2de8ddcf2": {
          "model_module": "@jupyter-widgets/controls",
          "model_name": "DescriptionStyleModel",
          "model_module_version": "1.5.0",
          "state": {
            "_model_module": "@jupyter-widgets/controls",
            "_model_module_version": "1.5.0",
            "_model_name": "DescriptionStyleModel",
            "_view_count": null,
            "_view_module": "@jupyter-widgets/base",
            "_view_module_version": "1.2.0",
            "_view_name": "StyleView",
            "description_width": ""
          }
        }
      }
    }
  },
  "cells": [
    {
      "cell_type": "code",
      "source": [
        "# To check if GPU is connected or not\n",
        "import tensorflow as tf\n",
        "tf.test.gpu_device_name()"
      ],
      "metadata": {
        "colab": {
          "base_uri": "https://localhost:8080/",
          "height": 36
        },
        "id": "N4-p_yAANCHB",
        "outputId": "312cccdd-df36-4ee4-981f-b8e8d0c4611c"
      },
      "execution_count": null,
      "outputs": [
        {
          "output_type": "execute_result",
          "data": {
            "text/plain": [
              "'/device:GPU:0'"
            ],
            "application/vnd.google.colaboratory.intrinsic+json": {
              "type": "string"
            }
          },
          "metadata": {},
          "execution_count": 1
        }
      ]
    },
    {
      "cell_type": "markdown",
      "source": [
        "# Fetching the data"
      ],
      "metadata": {
        "id": "3uZJTkPMDHjn"
      }
    },
    {
      "cell_type": "code",
      "source": [
        "# Mounting the google drive for data storage\n",
        "from google.colab import drive\n",
        "drive.mount('/content/drive')"
      ],
      "metadata": {
        "colab": {
          "base_uri": "https://localhost:8080/"
        },
        "id": "GpL0zFNnp3v5",
        "outputId": "e8166cd8-b80c-442e-8c41-fb1b08cda711"
      },
      "execution_count": null,
      "outputs": [
        {
          "output_type": "stream",
          "name": "stdout",
          "text": [
            "Mounted at /content/drive\n"
          ]
        }
      ]
    },
    {
      "cell_type": "code",
      "source": [
        "# Fetching the zip file and saving it into drive\n",
        "# !wget 'http://www.cl.cam.ac.uk/Research/NL/nl-download/GenSpam.tar.gz' -P drive/MyDrive/datasets/\n",
        "# !wget 'https://spamassassin.apache.org/old/publiccorpus/20050311_spam_2.tar.bz2' -P drive/MyDrive/datasets/\n",
        "!wget 'http://nlp.cs.aueb.gr/software_and_datasets/Enron-Spam/preprocessed/enron6.tar.gz' -P drive/MyDrive/datasets/\n",
        "# !wget 'http://nlp.cs.aueb.gr/software_and_datasets/lingspam_public.tar.gz' -P drive/MyDrive/datasets/"
      ],
      "metadata": {
        "colab": {
          "base_uri": "https://localhost:8080/"
        },
        "id": "oI8XmOMdqAky",
        "outputId": "1fcef8b9-6644-460b-8717-dd2d9cb5938c"
      },
      "execution_count": null,
      "outputs": [
        {
          "output_type": "stream",
          "name": "stdout",
          "text": [
            "--2025-04-24 06:04:01--  http://nlp.cs.aueb.gr/software_and_datasets/Enron-Spam/preprocessed/enron6.tar.gz\n",
            "Resolving nlp.cs.aueb.gr (nlp.cs.aueb.gr)... 195.251.248.252\n",
            "Connecting to nlp.cs.aueb.gr (nlp.cs.aueb.gr)|195.251.248.252|:80... connected.\n",
            "HTTP request sent, awaiting response... 200 OK\n",
            "Length: 3137204 (3.0M) [application/x-gzip]\n",
            "Saving to: ‘drive/MyDrive/datasets/enron6.tar.gz’\n",
            "\n",
            "enron6.tar.gz       100%[===================>]   2.99M   766KB/s    in 6.2s    \n",
            "\n",
            "2025-04-24 06:04:09 (495 KB/s) - ‘drive/MyDrive/datasets/enron6.tar.gz’ saved [3137204/3137204]\n",
            "\n"
          ]
        }
      ]
    },
    {
      "cell_type": "code",
      "source": [
        "# Unzipping the zip file\n",
        "!tar -xvzf drive/MyDrive/datasets/enron6.tar.gz -C drive/MyDrive/datasets/"
      ],
      "metadata": {
        "id": "htegILL3uleg"
      },
      "execution_count": null,
      "outputs": []
    },
    {
      "cell_type": "markdown",
      "source": [
        "# Install Necessary Libraries"
      ],
      "metadata": {
        "id": "XEoj42c3grNg"
      }
    },
    {
      "cell_type": "code",
      "execution_count": null,
      "metadata": {
        "id": "k7piegRFgeV0",
        "colab": {
          "base_uri": "https://localhost:8080/"
        },
        "outputId": "0df47728-a8cc-444a-b924-d7cdc4fe1d8d"
      },
      "outputs": [
        {
          "output_type": "stream",
          "name": "stdout",
          "text": [
            "\u001b[2K   \u001b[90m━━━━━━━━━━━━━━━━━━━━━━━━━━━━━━━━━━━━━━━━\u001b[0m \u001b[32m363.4/363.4 MB\u001b[0m \u001b[31m4.1 MB/s\u001b[0m eta \u001b[36m0:00:00\u001b[0m\n",
            "\u001b[2K   \u001b[90m━━━━━━━━━━━━━━━━━━━━━━━━━━━━━━━━━━━━━━━━\u001b[0m \u001b[32m13.8/13.8 MB\u001b[0m \u001b[31m99.1 MB/s\u001b[0m eta \u001b[36m0:00:00\u001b[0m\n",
            "\u001b[2K   \u001b[90m━━━━━━━━━━━━━━━━━━━━━━━━━━━━━━━━━━━━━━━━\u001b[0m \u001b[32m24.6/24.6 MB\u001b[0m \u001b[31m93.3 MB/s\u001b[0m eta \u001b[36m0:00:00\u001b[0m\n",
            "\u001b[2K   \u001b[90m━━━━━━━━━━━━━━━━━━━━━━━━━━━━━━━━━━━━━━━━\u001b[0m \u001b[32m883.7/883.7 kB\u001b[0m \u001b[31m57.2 MB/s\u001b[0m eta \u001b[36m0:00:00\u001b[0m\n",
            "\u001b[2K   \u001b[90m━━━━━━━━━━━━━━━━━━━━━━━━━━━━━━━━━━━━━━━━\u001b[0m \u001b[32m664.8/664.8 MB\u001b[0m \u001b[31m2.2 MB/s\u001b[0m eta \u001b[36m0:00:00\u001b[0m\n",
            "\u001b[2K   \u001b[90m━━━━━━━━━━━━━━━━━━━━━━━━━━━━━━━━━━━━━━━━\u001b[0m \u001b[32m211.5/211.5 MB\u001b[0m \u001b[31m6.9 MB/s\u001b[0m eta \u001b[36m0:00:00\u001b[0m\n",
            "\u001b[2K   \u001b[90m━━━━━━━━━━━━━━━━━━━━━━━━━━━━━━━━━━━━━━━━\u001b[0m \u001b[32m56.3/56.3 MB\u001b[0m \u001b[31m17.4 MB/s\u001b[0m eta \u001b[36m0:00:00\u001b[0m\n",
            "\u001b[2K   \u001b[90m━━━━━━━━━━━━━━━━━━━━━━━━━━━━━━━━━━━━━━━━\u001b[0m \u001b[32m127.9/127.9 MB\u001b[0m \u001b[31m9.4 MB/s\u001b[0m eta \u001b[36m0:00:00\u001b[0m\n",
            "\u001b[2K   \u001b[90m━━━━━━━━━━━━━━━━━━━━━━━━━━━━━━━━━━━━━━━━\u001b[0m \u001b[32m207.5/207.5 MB\u001b[0m \u001b[31m7.3 MB/s\u001b[0m eta \u001b[36m0:00:00\u001b[0m\n",
            "\u001b[2K   \u001b[90m━━━━━━━━━━━━━━━━━━━━━━━━━━━━━━━━━━━━━━━━\u001b[0m \u001b[32m21.1/21.1 MB\u001b[0m \u001b[31m34.1 MB/s\u001b[0m eta \u001b[36m0:00:00\u001b[0m\n",
            "\u001b[?25h"
          ]
        }
      ],
      "source": [
        "! pip install nltk torch transformers tensorflow-text --quiet"
      ]
    },
    {
      "cell_type": "markdown",
      "source": [
        "# Extracting the Data from the .txt files"
      ],
      "metadata": {
        "id": "SsM2BvumhE_0"
      }
    },
    {
      "cell_type": "code",
      "source": [
        "data_dir = '/content/drive/MyDrive/datasets/enron6'\n",
        "spam_dir = f'{data_dir}/spam'\n",
        "ham_dir = f'{data_dir}/ham'"
      ],
      "metadata": {
        "id": "KjihdnLzlg5P"
      },
      "execution_count": null,
      "outputs": []
    },
    {
      "cell_type": "code",
      "source": [
        "# Getting the list of spam and ham .txt files from Enron data set\n",
        "import os\n",
        "\n",
        "def get_txt_files(directory):\n",
        "  \"\"\"Gets a list of all .txt files in a directory.\"\"\"\n",
        "  txt_files = []\n",
        "  for root, _, files in os.walk(directory):\n",
        "    for file in files:\n",
        "      if file.endswith(\".txt\"):\n",
        "        txt_files.append(os.path.join(root, file))\n",
        "  return txt_files\n",
        "\n",
        "spam_files = get_txt_files(spam_dir)\n",
        "ham_files = get_txt_files(ham_dir)\n"
      ],
      "metadata": {
        "id": "uhGDrvceAsdg"
      },
      "execution_count": null,
      "outputs": []
    },
    {
      "cell_type": "code",
      "source": [
        "import pandas as pd\n",
        "from tqdm import tqdm\n",
        "import sys\n",
        "\n",
        "# Extracting Spam and Ham Data\n",
        "spam_data = []\n",
        "ham_data = []\n",
        "\n",
        "for spam_file in tqdm(spam_files, file=sys.stdout, bar_format=\"{l_bar}{bar}| {n_fmt}/{total_fmt}\"):\n",
        "  with open(spam_file, 'r', encoding='latin-1') as f:\n",
        "    spam_content = f.read()\n",
        "    spam_data.append({'content':spam_content, 'is_spam':1})\n",
        "\n",
        "for ham_file in tqdm(ham_files):\n",
        "  with open(ham_file, 'r', encoding='latin-1') as f:\n",
        "    ham_content = f.read()\n",
        "    ham_data.append({'content':ham_content, 'is_spam':0})\n",
        "\n",
        "# Concating spam and ham data\n",
        "data = pd.concat([pd.DataFrame(spam_data), pd.DataFrame(ham_data)])\n",
        "\n",
        "# Shuffle Data\n",
        "data = data.sample(frac=1).reset_index(drop=True)"
      ],
      "metadata": {
        "id": "RvhyzYsLBOuW",
        "colab": {
          "base_uri": "https://localhost:8080/"
        },
        "outputId": "dc93a687-63b5-4dd7-deb5-a3e9b6c45e7a"
      },
      "execution_count": null,
      "outputs": [
        {
          "output_type": "stream",
          "name": "stdout",
          "text": [
            "100%|██████████| 4500/4500\n"
          ]
        },
        {
          "output_type": "stream",
          "name": "stderr",
          "text": [
            "100%|██████████| 1500/1500 [00:03<00:00, 493.51it/s]\n"
          ]
        }
      ]
    },
    {
      "cell_type": "code",
      "source": [
        "# Checkpoint 1 - Saving the raw data to the .csv file\n",
        "data_extracted = data.copy()\n",
        "data_extracted.to_csv(f'{data_dir}/data_extracted.csv', index=False, escapechar='\\\\')"
      ],
      "metadata": {
        "id": "D222TjrCNh_a"
      },
      "execution_count": null,
      "outputs": []
    },
    {
      "cell_type": "code",
      "source": [
        "import pandas as pd\n",
        "pd.set_option('display.max_columns', None)\n",
        "\n",
        "data = pd.read_csv(f'{data_dir}/data_extracted.csv')\n",
        "data.sample(10)    # Fetching random 3 samples"
      ],
      "metadata": {
        "colab": {
          "base_uri": "https://localhost:8080/",
          "height": 363
        },
        "id": "7qOe3-bLEI5k",
        "outputId": "35d40e23-0294-41e5-f8d7-365737905e7f"
      },
      "execution_count": null,
      "outputs": [
        {
          "output_type": "execute_result",
          "data": {
            "text/plain": [
              "                                                content  is_spam\n",
              "5923  Subject: cheapest meds you ' ll find .\\ndiscou...        1\n",
              "697   Subject: here ' s a hot play in motion\\nwysak ...        1\n",
              "973   Subject: fw : negotiated rates\\naudrey d . rob...        0\n",
              "998   Subject: increase the volume of your ejaculati...        1\n",
              "4337  Subject: hello from gambia\\nhi ,\\ni got your c...        1\n",
              "81    Subject: check this stock - it ' s going up up...        1\n",
              "1894  Subject: only fresh models of teenagers girls\\...        1\n",
              "5422  Subject: sponsored tickets for weather trading...        0\n",
              "1208  Subject: we want to check your pulse\\nonce aga...        0\n",
              "3436  Subject: northeast spring membership mixer\\n> ...        0"
            ],
            "text/html": [
              "\n",
              "  <div id=\"df-3e92c123-3036-4c46-8deb-c4a431b8ffb1\" class=\"colab-df-container\">\n",
              "    <div>\n",
              "<style scoped>\n",
              "    .dataframe tbody tr th:only-of-type {\n",
              "        vertical-align: middle;\n",
              "    }\n",
              "\n",
              "    .dataframe tbody tr th {\n",
              "        vertical-align: top;\n",
              "    }\n",
              "\n",
              "    .dataframe thead th {\n",
              "        text-align: right;\n",
              "    }\n",
              "</style>\n",
              "<table border=\"1\" class=\"dataframe\">\n",
              "  <thead>\n",
              "    <tr style=\"text-align: right;\">\n",
              "      <th></th>\n",
              "      <th>content</th>\n",
              "      <th>is_spam</th>\n",
              "    </tr>\n",
              "  </thead>\n",
              "  <tbody>\n",
              "    <tr>\n",
              "      <th>5923</th>\n",
              "      <td>Subject: cheapest meds you ' ll find .\\ndiscou...</td>\n",
              "      <td>1</td>\n",
              "    </tr>\n",
              "    <tr>\n",
              "      <th>697</th>\n",
              "      <td>Subject: here ' s a hot play in motion\\nwysak ...</td>\n",
              "      <td>1</td>\n",
              "    </tr>\n",
              "    <tr>\n",
              "      <th>973</th>\n",
              "      <td>Subject: fw : negotiated rates\\naudrey d . rob...</td>\n",
              "      <td>0</td>\n",
              "    </tr>\n",
              "    <tr>\n",
              "      <th>998</th>\n",
              "      <td>Subject: increase the volume of your ejaculati...</td>\n",
              "      <td>1</td>\n",
              "    </tr>\n",
              "    <tr>\n",
              "      <th>4337</th>\n",
              "      <td>Subject: hello from gambia\\nhi ,\\ni got your c...</td>\n",
              "      <td>1</td>\n",
              "    </tr>\n",
              "    <tr>\n",
              "      <th>81</th>\n",
              "      <td>Subject: check this stock - it ' s going up up...</td>\n",
              "      <td>1</td>\n",
              "    </tr>\n",
              "    <tr>\n",
              "      <th>1894</th>\n",
              "      <td>Subject: only fresh models of teenagers girls\\...</td>\n",
              "      <td>1</td>\n",
              "    </tr>\n",
              "    <tr>\n",
              "      <th>5422</th>\n",
              "      <td>Subject: sponsored tickets for weather trading...</td>\n",
              "      <td>0</td>\n",
              "    </tr>\n",
              "    <tr>\n",
              "      <th>1208</th>\n",
              "      <td>Subject: we want to check your pulse\\nonce aga...</td>\n",
              "      <td>0</td>\n",
              "    </tr>\n",
              "    <tr>\n",
              "      <th>3436</th>\n",
              "      <td>Subject: northeast spring membership mixer\\n&gt; ...</td>\n",
              "      <td>0</td>\n",
              "    </tr>\n",
              "  </tbody>\n",
              "</table>\n",
              "</div>\n",
              "    <div class=\"colab-df-buttons\">\n",
              "\n",
              "  <div class=\"colab-df-container\">\n",
              "    <button class=\"colab-df-convert\" onclick=\"convertToInteractive('df-3e92c123-3036-4c46-8deb-c4a431b8ffb1')\"\n",
              "            title=\"Convert this dataframe to an interactive table.\"\n",
              "            style=\"display:none;\">\n",
              "\n",
              "  <svg xmlns=\"http://www.w3.org/2000/svg\" height=\"24px\" viewBox=\"0 -960 960 960\">\n",
              "    <path d=\"M120-120v-720h720v720H120Zm60-500h600v-160H180v160Zm220 220h160v-160H400v160Zm0 220h160v-160H400v160ZM180-400h160v-160H180v160Zm440 0h160v-160H620v160ZM180-180h160v-160H180v160Zm440 0h160v-160H620v160Z\"/>\n",
              "  </svg>\n",
              "    </button>\n",
              "\n",
              "  <style>\n",
              "    .colab-df-container {\n",
              "      display:flex;\n",
              "      gap: 12px;\n",
              "    }\n",
              "\n",
              "    .colab-df-convert {\n",
              "      background-color: #E8F0FE;\n",
              "      border: none;\n",
              "      border-radius: 50%;\n",
              "      cursor: pointer;\n",
              "      display: none;\n",
              "      fill: #1967D2;\n",
              "      height: 32px;\n",
              "      padding: 0 0 0 0;\n",
              "      width: 32px;\n",
              "    }\n",
              "\n",
              "    .colab-df-convert:hover {\n",
              "      background-color: #E2EBFA;\n",
              "      box-shadow: 0px 1px 2px rgba(60, 64, 67, 0.3), 0px 1px 3px 1px rgba(60, 64, 67, 0.15);\n",
              "      fill: #174EA6;\n",
              "    }\n",
              "\n",
              "    .colab-df-buttons div {\n",
              "      margin-bottom: 4px;\n",
              "    }\n",
              "\n",
              "    [theme=dark] .colab-df-convert {\n",
              "      background-color: #3B4455;\n",
              "      fill: #D2E3FC;\n",
              "    }\n",
              "\n",
              "    [theme=dark] .colab-df-convert:hover {\n",
              "      background-color: #434B5C;\n",
              "      box-shadow: 0px 1px 3px 1px rgba(0, 0, 0, 0.15);\n",
              "      filter: drop-shadow(0px 1px 2px rgba(0, 0, 0, 0.3));\n",
              "      fill: #FFFFFF;\n",
              "    }\n",
              "  </style>\n",
              "\n",
              "    <script>\n",
              "      const buttonEl =\n",
              "        document.querySelector('#df-3e92c123-3036-4c46-8deb-c4a431b8ffb1 button.colab-df-convert');\n",
              "      buttonEl.style.display =\n",
              "        google.colab.kernel.accessAllowed ? 'block' : 'none';\n",
              "\n",
              "      async function convertToInteractive(key) {\n",
              "        const element = document.querySelector('#df-3e92c123-3036-4c46-8deb-c4a431b8ffb1');\n",
              "        const dataTable =\n",
              "          await google.colab.kernel.invokeFunction('convertToInteractive',\n",
              "                                                    [key], {});\n",
              "        if (!dataTable) return;\n",
              "\n",
              "        const docLinkHtml = 'Like what you see? Visit the ' +\n",
              "          '<a target=\"_blank\" href=https://colab.research.google.com/notebooks/data_table.ipynb>data table notebook</a>'\n",
              "          + ' to learn more about interactive tables.';\n",
              "        element.innerHTML = '';\n",
              "        dataTable['output_type'] = 'display_data';\n",
              "        await google.colab.output.renderOutput(dataTable, element);\n",
              "        const docLink = document.createElement('div');\n",
              "        docLink.innerHTML = docLinkHtml;\n",
              "        element.appendChild(docLink);\n",
              "      }\n",
              "    </script>\n",
              "  </div>\n",
              "\n",
              "\n",
              "<div id=\"df-bc287f0d-17a1-48f1-aff3-53ac2f2a07ab\">\n",
              "  <button class=\"colab-df-quickchart\" onclick=\"quickchart('df-bc287f0d-17a1-48f1-aff3-53ac2f2a07ab')\"\n",
              "            title=\"Suggest charts\"\n",
              "            style=\"display:none;\">\n",
              "\n",
              "<svg xmlns=\"http://www.w3.org/2000/svg\" height=\"24px\"viewBox=\"0 0 24 24\"\n",
              "     width=\"24px\">\n",
              "    <g>\n",
              "        <path d=\"M19 3H5c-1.1 0-2 .9-2 2v14c0 1.1.9 2 2 2h14c1.1 0 2-.9 2-2V5c0-1.1-.9-2-2-2zM9 17H7v-7h2v7zm4 0h-2V7h2v10zm4 0h-2v-4h2v4z\"/>\n",
              "    </g>\n",
              "</svg>\n",
              "  </button>\n",
              "\n",
              "<style>\n",
              "  .colab-df-quickchart {\n",
              "      --bg-color: #E8F0FE;\n",
              "      --fill-color: #1967D2;\n",
              "      --hover-bg-color: #E2EBFA;\n",
              "      --hover-fill-color: #174EA6;\n",
              "      --disabled-fill-color: #AAA;\n",
              "      --disabled-bg-color: #DDD;\n",
              "  }\n",
              "\n",
              "  [theme=dark] .colab-df-quickchart {\n",
              "      --bg-color: #3B4455;\n",
              "      --fill-color: #D2E3FC;\n",
              "      --hover-bg-color: #434B5C;\n",
              "      --hover-fill-color: #FFFFFF;\n",
              "      --disabled-bg-color: #3B4455;\n",
              "      --disabled-fill-color: #666;\n",
              "  }\n",
              "\n",
              "  .colab-df-quickchart {\n",
              "    background-color: var(--bg-color);\n",
              "    border: none;\n",
              "    border-radius: 50%;\n",
              "    cursor: pointer;\n",
              "    display: none;\n",
              "    fill: var(--fill-color);\n",
              "    height: 32px;\n",
              "    padding: 0;\n",
              "    width: 32px;\n",
              "  }\n",
              "\n",
              "  .colab-df-quickchart:hover {\n",
              "    background-color: var(--hover-bg-color);\n",
              "    box-shadow: 0 1px 2px rgba(60, 64, 67, 0.3), 0 1px 3px 1px rgba(60, 64, 67, 0.15);\n",
              "    fill: var(--button-hover-fill-color);\n",
              "  }\n",
              "\n",
              "  .colab-df-quickchart-complete:disabled,\n",
              "  .colab-df-quickchart-complete:disabled:hover {\n",
              "    background-color: var(--disabled-bg-color);\n",
              "    fill: var(--disabled-fill-color);\n",
              "    box-shadow: none;\n",
              "  }\n",
              "\n",
              "  .colab-df-spinner {\n",
              "    border: 2px solid var(--fill-color);\n",
              "    border-color: transparent;\n",
              "    border-bottom-color: var(--fill-color);\n",
              "    animation:\n",
              "      spin 1s steps(1) infinite;\n",
              "  }\n",
              "\n",
              "  @keyframes spin {\n",
              "    0% {\n",
              "      border-color: transparent;\n",
              "      border-bottom-color: var(--fill-color);\n",
              "      border-left-color: var(--fill-color);\n",
              "    }\n",
              "    20% {\n",
              "      border-color: transparent;\n",
              "      border-left-color: var(--fill-color);\n",
              "      border-top-color: var(--fill-color);\n",
              "    }\n",
              "    30% {\n",
              "      border-color: transparent;\n",
              "      border-left-color: var(--fill-color);\n",
              "      border-top-color: var(--fill-color);\n",
              "      border-right-color: var(--fill-color);\n",
              "    }\n",
              "    40% {\n",
              "      border-color: transparent;\n",
              "      border-right-color: var(--fill-color);\n",
              "      border-top-color: var(--fill-color);\n",
              "    }\n",
              "    60% {\n",
              "      border-color: transparent;\n",
              "      border-right-color: var(--fill-color);\n",
              "    }\n",
              "    80% {\n",
              "      border-color: transparent;\n",
              "      border-right-color: var(--fill-color);\n",
              "      border-bottom-color: var(--fill-color);\n",
              "    }\n",
              "    90% {\n",
              "      border-color: transparent;\n",
              "      border-bottom-color: var(--fill-color);\n",
              "    }\n",
              "  }\n",
              "</style>\n",
              "\n",
              "  <script>\n",
              "    async function quickchart(key) {\n",
              "      const quickchartButtonEl =\n",
              "        document.querySelector('#' + key + ' button');\n",
              "      quickchartButtonEl.disabled = true;  // To prevent multiple clicks.\n",
              "      quickchartButtonEl.classList.add('colab-df-spinner');\n",
              "      try {\n",
              "        const charts = await google.colab.kernel.invokeFunction(\n",
              "            'suggestCharts', [key], {});\n",
              "      } catch (error) {\n",
              "        console.error('Error during call to suggestCharts:', error);\n",
              "      }\n",
              "      quickchartButtonEl.classList.remove('colab-df-spinner');\n",
              "      quickchartButtonEl.classList.add('colab-df-quickchart-complete');\n",
              "    }\n",
              "    (() => {\n",
              "      let quickchartButtonEl =\n",
              "        document.querySelector('#df-bc287f0d-17a1-48f1-aff3-53ac2f2a07ab button');\n",
              "      quickchartButtonEl.style.display =\n",
              "        google.colab.kernel.accessAllowed ? 'block' : 'none';\n",
              "    })();\n",
              "  </script>\n",
              "</div>\n",
              "\n",
              "    </div>\n",
              "  </div>\n"
            ],
            "application/vnd.google.colaboratory.intrinsic+json": {
              "type": "dataframe",
              "summary": "{\n  \"name\": \"data\",\n  \"rows\": 10,\n  \"fields\": [\n    {\n      \"column\": \"content\",\n      \"properties\": {\n        \"dtype\": \"string\",\n        \"num_unique_values\": 10,\n        \"samples\": [\n          \"Subject: we want to check your pulse\\nonce again , it ' s time to find out what you think about your work experience\\nat enron and enron transportation services company , and what we can do to\\nhelp make it better . that ' s why we want to check your pulse . in fact , we ' ve\\nchanged the name of last year ' s \\\" excellence through communication \\\" employee\\nsurvey to the pulse . we believe the pulse more accurately captures the\\npurpose of the survey . your diagnosis will help us correct problem areas so\\nwe can continue to make enron a great place to work .\\nis available : monday , oct . 16 - friday , oct . 27\\nis located at : survey . enron . com\\nthere are a few things we want you to remember about the pulse :\\n1 . your survey responses will be confidential . you can complete your survey\\nfrom special computer kiosks that will be set up in some of our larger\\noffices . several group computer terminals also will be available in smaller\\nfield offices . we want to provide you with the most comfortable environment\\npossible , as your participation is of vital importance to us . alternatively ,\\nyou can key in your responses from your desktop computer . the responses keyed\\nfrom your desktop will be confidential as well .\\n2 . we will respond actively to your comments . we are going to do our best to\\ncure some of the current problems that exist and put into action preventative\\nprocesses that will help identify smaller problems before they become major\\nones . we may ask for your help in resolving some of the issues that are\\ncollected in the survey - your active role will help us identify the best\\nsolutions .\\nin last year ' s survey , you identified several problem areas regarding\\ninternal communications , workload and performance management . we ' ve already\\nacted on many of your recommendations . these are a few of the things we ' ve\\naccomplished in direct response to your input :\\n\\u0001 ets strengthened management focus on intellectual capital and employee\\nthrough the initiation of :\\n\\u0001 table talk sessions with ets office of the chairman , which give employees\\nthe opportunity to have frontline discussions ,\\n\\u0001 the \\\" innovation series , \\\" which invites employees to share their ideas\\nopenly and ensures management commitment to evaluating ideas ,\\n\\u0001 e - speak sessions with ets leaders to exchange ideas , and\\n\\u0001 our name change to enron transportation services to recognize our most\\nstrategic asset - you .\\n\\u0001 we made workload planning and management training / development available to\\nets employees to address workload issues , the greatest ets concern in the\\nsurvey .\\n\\u0001 we improved the consistency of performance management , the survey topic\\nthat received the most employee comments , by extending the use of the\\nperformance evaluation process ( pep ) system and the performance review\\ncommittee ( prc ) process to all levels in ets at mid - year in 2000 .\\nplease take a few minutes to check your pulse and tell us what you think and\\nhow you feel about your job and about enron .\\nwe look forward to hearing from you\",\n          \"Subject: here ' s a hot play in motion\\nwysak petroieum ( wysk )\\ncurrent price : 0 . 16\\napr 25 , 20 o 5 - - wysak petroleum is pleased to report that due diiigence is nearly complete in regards to the company ' s further planned | eases in the wyoming oil region . management anticipates further news wiil be forthcoming shortly and wi | | report on deveiopments as they occur .\\ntargets include properties in the powder river basin region and western wyoming ' s green river basin . acquisition of energy producing assets has always been the core objective of wysak ' s expansion strategy . wysak wil | strategically purchase leases in know and proven oi | they include exxonmobiie , wi | | iams gas and western gas , among others .\\nabout wyoming oil & gas and coaibed methane ( cbm )\\nwyoming state has bi | | ions of do | | ars in proven oi | and gas reserves . in 2002 , wyoming ranked second in the u . s . in proved reserves of natural gas and seventh in proved reserves of crude oil . co | | ectiveiy over 26 , ooo weils produced 54 . 7 million barrels of oi | and 1 . 75 trillion cubic feet of natura | gas . proved reserves of natura | gas were at an a | | - time high of 18 . 4 tri | | ion cubic feet , whiie proved reserves of crude oi | were 489 mi | | ion barrels .\\nreserves of cbm in the powder river basin are estimated at 31 . 8 triilion cubic feet . neariy 10 o welis are being drilled each week , and the gas companies say the entire 8 million - acre basin could have 5 o , 000 to loo , 0 oo producing weils before they are finished . this is the largest onshore natural gas piay in north america within the | ast ten years .\\nabout wysak petroleum\\nwysak is a diversified energy company whose goal is to identify and develop\\ntraditiona | fossil fue | sites , as we | | as clean air aiternative energy producing\\ntechnoiogies . wysak controis one wyoming federal oil they inciude exxonmobiie ( xom ) , wiiliams gas ( wmb ) ,\\nand western gas ( wgr ) among others . collectiveiy , over 26 , oo 0 weils produced\\n54 . 7 miilion barreis of oi | and 1 . 75 triliion cubic feet of natural gas in\\nwyoming\\nconciusion :\\nthe exampies above show the awesome , earning potentia | of littie known companies that explode onto investor ' s radar screens ; many of you are already familiar with this . is wysk poised and positioned to do that for you ? then you may fee | the time has come to act . . . and please watch this one trade monday ! go wysk .\\npenny stocks are considered highiy specuiative and may be unsuitable for all but very aggressive investors . this profiie is not in any way affiliated with the featured company . we were compensated 30 oo doliars to distribute this report . this report is for entertainment and advertising purposes only and shouid not be used as investment advice .\\nif you wish to stop future mailings , or if you fee | you have been\\nwrongfully piaced in our membership , piease go here or send a biank\\ne mai | with no thanks in the subject to\\nnoneedl 013 @ yahoo . com\",\n          \"Subject: check this stock - it ' s going up up up\\npolk ,\\ntechlite , inc . ( otcbb : thlt )\\njoint venture agreement with anticipated $ 3 - 5 mi | | ion\\nof new business ( source : news 11 / 30 / 04 )\\nshares outstanding : lo , 994 , 910 ( source : 10 q 8 / 19 / o 4 )\\ncurrent price : $ . 54\\na massive pr campaign is underway on this stock . some of these small stocks are absolutely flying , as many of you know . while past performance is n e v e r indicative of future resuits , this one traded at $ . 90 back on november 11 th . wi | | thlt bounce back ? is it a w i n ning trade from here ?\\nreasons to consider thlt ( source : recent press reieases )\\n1 ) techlite subsidiary , keystone , reaches agreement with redi - controis to market oam purger in greater china\\n2 ) techlite can reduce corporate electrical usage up to 5 o percent\\n3 ) techlite , inc . reaches distribution agreement with frigi - tech internationa | , inc . of houston , texas\\n4 ) techlite signs joint venture agreement with anticipated $ 3 - 5 mi | | ion of new business\\nabout techlite inc . ( source : news january 7 , 2005 )\\ntechlite inc . is a national energy service company . in 2004 techlite entered its 12 th year in the design and instaliation of energy - efficient and epa - compliant lighting upgrades encompassing the vast number and variety of existing | ighting systems . the magazine \\\" electrica | contractor \\\" has described the lighting retrofit business as \\\" the market of the decade . \\\" customers include power utility energy service companies ( escos ) , as we | | as the education , healthcare , commercial , industrial , and government markets . industry experts estimate the size of the market at approximately three biliion lighting fixtures , creating a potential $ 100 bi | | ion nationa | | ighting retrofit industry . techlite also offers new energy - efficient light fixtures for new construction , long - term service and maintenance contracts for customer | ighting systems , and other state - of - the - art energy reduction products and services for air conditioning systems .\\nwatch this stock tuesday . can it put some short term money in your pocket ? if you think so , consider trading some for your account . good luck .\\ncertain statements in this news reiease may contain forward - looking information within the meaning of ruie 175 under the securities act of 1933 and ruie 3 b - 6 under the securities exchange act of 1934 , and are subject to the safe harbor created by those rules . a | | statements , other than statements of fact , included in this release , inciuding , without | imitation , statements regarding potentia | future pians and objectives of the companies , are forward - looking statements that involve risks and uncertainties . there can be no assurance that such statements wi | | prove to be accurate and actua | results and future events could differ materia | | y from those anticipated in such statements . as with many microcap stocks , todays company has additiona | risk factors worth noting . the company has a going concern opinion from its auditor , a | arge accumulated deficit , a large negative net worth , a reliance on loans from officers to pay expenses , nominal revenue in its most recent quarter , officers have personaily guaranteeed company debt , tax | iens for unpaid federal and state taxes , is a defendant in two | awsuits , has a nominal cash position and the need to raise capital . a failure to raise capital could cause the company to go out of business . these risks and others are more fully detaiied in the companys sec fiiings . we strongly urge you to review them before you invest . the publisher of this newsietter does not represent that the information contained in this message states ail material facts or does not omit a material fact necessary to make the statements therein not misieading . read the compay ' s sec fiiings before you invest . ail information provided within this pubiication pertaining to investing , stocks , securities must be understood as information provided and not investment advice . the pubiisher of this newsietter advises al | readers to seek advice from a registered professional securities representative before deciding to trade in stocks featured within this publication . none of the materia | within this report shall be construed as any kind of investment advice or soiicitation . many of these companies are on the verge of bankruptcy . you can lose a | | your money by investing in this stock . the pubiisher of this newsietter is not a registered investment expert . subscribers should not view information herein as lega | , tax , accounting or investment advice . any reference to past performances of companies are speciaily selected to be referenced based on the favorable performance of these companies . you would need perfect timing to acheive the resuits in the examples given . there can be no assurance of that happening . remember , as aiways , past performance is not indicative of future results and a thorough due diligence effort , inciuding a review of a companys fiiings , should be compieted prior to investing . in compiiance with the securities act of 1933 , sectionl 7 b , the pubiisher of this newsletter discioses the receipt of fourteen thousand do | | ars from a third party , not an officer , director or affiiiate sharehoider of the company for the circulation of this report . the party that paid us has a position in the stock they wil | sell at anytime without notice . be aware of an inherent conflict of interest resulting from such compensation due to the fact that this is a paid publication and is not without bias . al | factua | information in this report was gathered from public sources , inciuding but not | imited to company websites , sec filings and company press releases . the pubiisher of this newsletter beiieves this information to be reiiabie but can make no assurance as to its accuracy or completeness . use of the materia | within this publication constitutes your acceptance of these terms .\"\n        ],\n        \"semantic_type\": \"\",\n        \"description\": \"\"\n      }\n    },\n    {\n      \"column\": \"is_spam\",\n      \"properties\": {\n        \"dtype\": \"number\",\n        \"std\": 0,\n        \"min\": 0,\n        \"max\": 1,\n        \"num_unique_values\": 2,\n        \"samples\": [\n          0,\n          1\n        ],\n        \"semantic_type\": \"\",\n        \"description\": \"\"\n      }\n    }\n  ]\n}"
            }
          },
          "metadata": {},
          "execution_count": 12
        }
      ]
    },
    {
      "cell_type": "markdown",
      "source": [
        "Since this is only textual data, there not much to perform EDA on"
      ],
      "metadata": {
        "id": "-Y8vXC8-FGxV"
      }
    },
    {
      "cell_type": "markdown",
      "source": [
        "# Class Imbalance"
      ],
      "metadata": {
        "id": "0-ld3ej6OQn0"
      }
    },
    {
      "cell_type": "code",
      "source": [
        "# Checking the class imbalance\n",
        "value_counts = data['is_spam'].value_counts()\n",
        "value_counts"
      ],
      "metadata": {
        "colab": {
          "base_uri": "https://localhost:8080/",
          "height": 178
        },
        "id": "nRdDYqxION2u",
        "outputId": "89b2d289-c5b3-4802-ce68-13c01a1f6825"
      },
      "execution_count": null,
      "outputs": [
        {
          "output_type": "execute_result",
          "data": {
            "text/plain": [
              "is_spam\n",
              "1    4500\n",
              "0    1500\n",
              "Name: count, dtype: int64"
            ],
            "text/html": [
              "<div>\n",
              "<style scoped>\n",
              "    .dataframe tbody tr th:only-of-type {\n",
              "        vertical-align: middle;\n",
              "    }\n",
              "\n",
              "    .dataframe tbody tr th {\n",
              "        vertical-align: top;\n",
              "    }\n",
              "\n",
              "    .dataframe thead th {\n",
              "        text-align: right;\n",
              "    }\n",
              "</style>\n",
              "<table border=\"1\" class=\"dataframe\">\n",
              "  <thead>\n",
              "    <tr style=\"text-align: right;\">\n",
              "      <th></th>\n",
              "      <th>count</th>\n",
              "    </tr>\n",
              "    <tr>\n",
              "      <th>is_spam</th>\n",
              "      <th></th>\n",
              "    </tr>\n",
              "  </thead>\n",
              "  <tbody>\n",
              "    <tr>\n",
              "      <th>1</th>\n",
              "      <td>4500</td>\n",
              "    </tr>\n",
              "    <tr>\n",
              "      <th>0</th>\n",
              "      <td>1500</td>\n",
              "    </tr>\n",
              "  </tbody>\n",
              "</table>\n",
              "</div><br><label><b>dtype:</b> int64</label>"
            ]
          },
          "metadata": {},
          "execution_count": 13
        }
      ]
    },
    {
      "cell_type": "code",
      "source": [
        "import seaborn as sns\n",
        "import matplotlib.pyplot as plt\n",
        "\n",
        "plt.figure(figsize=(5, 4))\n",
        "sns.set_theme(style=\"darkgrid\")\n",
        "sns.countplot(x='is_spam', data=data)\n",
        "\n",
        "plt.xticks([0, 1], ['Not Spam(Ham)', 'Spam'])\n",
        "\n",
        "plt.xlabel('Email Class')\n",
        "plt.ylabel('Count')\n",
        "plt.title('Distribution of Email Classes')\n",
        "plt.show()\n"
      ],
      "metadata": {
        "colab": {
          "base_uri": "https://localhost:8080/",
          "height": 419
        },
        "id": "OcCHUURr14Gh",
        "outputId": "3592418a-107a-438e-e6e0-433da88c4865"
      },
      "execution_count": null,
      "outputs": [
        {
          "output_type": "display_data",
          "data": {
            "text/plain": [
              "<Figure size 500x400 with 1 Axes>"
            ],
            "image/png": "[encoded data removed]"
          },
          "metadata": {}
        }
      ]
    },
    {
      "cell_type": "markdown",
      "source": [
        "There are many spam email samples compared to not spam and since I'm using BERT model for training and prediction, 1500 samples are enough for both the categories since transformers are good at context detection."
      ],
      "metadata": {
        "id": "Qa3_9op4FSQF"
      }
    },
    {
      "cell_type": "code",
      "source": [
        "print(f\"Percentage of data that needs to be managed: {round(value_counts[0] / value_counts[1], 2)} %\")"
      ],
      "metadata": {
        "colab": {
          "base_uri": "https://localhost:8080/"
        },
        "id": "8h2wW_49RxQI",
        "outputId": "68e86eb7-7683-4fd1-a158-c34badbd9d99"
      },
      "execution_count": null,
      "outputs": [
        {
          "output_type": "stream",
          "name": "stdout",
          "text": [
            "Percentage of data that needs to be managed: 0.33 %\n"
          ]
        }
      ]
    },
    {
      "cell_type": "code",
      "source": [
        "# Downsampling the spam emails data\n",
        "data_spam = data[data['is_spam'] == 1]\n",
        "data_ham = data[data['is_spam'] == 0]\n",
        "\n",
        "data_spam_downsampled = data_spam.sample(n=len(data_ham), random_state=42)\n",
        "data = pd.concat([data_spam_downsampled, data_ham])\n",
        "data = data.sample(frac=1).reset_index(drop=True)"
      ],
      "metadata": {
        "id": "fJDTvlCET6x8"
      },
      "execution_count": null,
      "outputs": []
    },
    {
      "cell_type": "code",
      "source": [
        "data['is_spam'].value_counts()"
      ],
      "metadata": {
        "colab": {
          "base_uri": "https://localhost:8080/",
          "height": 178
        },
        "id": "xstzw0UiUmp5",
        "outputId": "05fb02ee-cb06-40e9-e0f9-58ae5c04dd2e"
      },
      "execution_count": null,
      "outputs": [
        {
          "output_type": "execute_result",
          "data": {
            "text/plain": [
              "is_spam\n",
              "0    1500\n",
              "1    1500\n",
              "Name: count, dtype: int64"
            ],
            "text/html": [
              "<div>\n",
              "<style scoped>\n",
              "    .dataframe tbody tr th:only-of-type {\n",
              "        vertical-align: middle;\n",
              "    }\n",
              "\n",
              "    .dataframe tbody tr th {\n",
              "        vertical-align: top;\n",
              "    }\n",
              "\n",
              "    .dataframe thead th {\n",
              "        text-align: right;\n",
              "    }\n",
              "</style>\n",
              "<table border=\"1\" class=\"dataframe\">\n",
              "  <thead>\n",
              "    <tr style=\"text-align: right;\">\n",
              "      <th></th>\n",
              "      <th>count</th>\n",
              "    </tr>\n",
              "    <tr>\n",
              "      <th>is_spam</th>\n",
              "      <th></th>\n",
              "    </tr>\n",
              "  </thead>\n",
              "  <tbody>\n",
              "    <tr>\n",
              "      <th>0</th>\n",
              "      <td>1500</td>\n",
              "    </tr>\n",
              "    <tr>\n",
              "      <th>1</th>\n",
              "      <td>1500</td>\n",
              "    </tr>\n",
              "  </tbody>\n",
              "</table>\n",
              "</div><br><label><b>dtype:</b> int64</label>"
            ]
          },
          "metadata": {},
          "execution_count": 17
        }
      ]
    },
    {
      "cell_type": "code",
      "source": [
        "import seaborn as sns\n",
        "import matplotlib.pyplot as plt\n",
        "\n",
        "plt.figure(figsize=(5, 4))\n",
        "sns.set_theme(style=\"darkgrid\")\n",
        "sns.countplot(x='is_spam', data=data)\n",
        "\n",
        "plt.xticks([0, 1], ['Not Spam(Ham)', 'Spam'])\n",
        "\n",
        "plt.xlabel('Email Class')\n",
        "plt.ylabel('Count')\n",
        "plt.title('Distribution of Email Classes')\n",
        "plt.show()"
      ],
      "metadata": {
        "colab": {
          "base_uri": "https://localhost:8080/",
          "height": 419
        },
        "id": "ZhD-_ixU4A5U",
        "outputId": "1bb3c84d-19f7-4c7f-afb9-d8c5b7b811c7"
      },
      "execution_count": null,
      "outputs": [
        {
          "output_type": "display_data",
          "data": {
            "text/plain": [
              "<Figure size 500x400 with 1 Axes>"
            ],
            "image/png": "[encoded data removed]"
          },
          "metadata": {}
        }
      ]
    },
    {
      "cell_type": "code",
      "source": [
        "# Checkpoint 2 - Saving the resolve class imbalance data\n",
        "data_balanced = data.copy()\n",
        "data_balanced.to_csv(f'{data_dir}/data_balanced.csv', index=False, escapechar='\\\\')"
      ],
      "metadata": {
        "id": "qdBJVIXSUa_B"
      },
      "execution_count": null,
      "outputs": []
    },
    {
      "cell_type": "markdown",
      "source": [
        "# Text Processing\n",
        "\n",
        "Here I'm doing basic text processing which includes:\n",
        "- Make all the text of email lower case\n",
        "- Removal of any URLs and HTML tags from the email text\n",
        "- Removal of non-alphanumeric characters\n",
        "\n",
        "Since BERT and other transformer based neural networks are good a context understanding, there's no need to perform lemmatization and stop words removal."
      ],
      "metadata": {
        "id": "SGiZZijcKsdw"
      }
    },
    {
      "cell_type": "code",
      "source": [
        "import re\n",
        "\n",
        "# processing text with ReGex\n",
        "def process_text(text):\n",
        "  # Convert to lower case\n",
        "  text = text.lower()\n",
        "\n",
        "  # Remove URLS\n",
        "  text = re.sub(r'http\\S+|www\\S+|https\\S+', '', text, flags=re.MULTILINE)\n",
        "\n",
        "  # Remove HTML tags\n",
        "  text = re.sub(r'<.*?>', '', text)\n",
        "\n",
        "  # Remove non-alphanumeric characters and extra spaces\n",
        "  text = re.sub(r'\\W+', ' ', text)\n",
        "  text = re.sub(r'\\s+', ' ', text).strip()\n",
        "\n",
        "  return text\n",
        "\n",
        "\n",
        "data['content'] = data['content'].apply(process_text)"
      ],
      "metadata": {
        "id": "Rb6bw0yqJdIF"
      },
      "execution_count": null,
      "outputs": []
    },
    {
      "cell_type": "code",
      "source": [
        "# Checkpoint 2 - Text Processing\n",
        "data_text_processed = data.copy()\n",
        "data_text_processed.to_csv(f'{data_dir}/data_text_processed.csv', index=False, escapechar='\\\\')"
      ],
      "metadata": {
        "id": "saf2XRv7Nzgt"
      },
      "execution_count": null,
      "outputs": []
    },
    {
      "cell_type": "markdown",
      "source": [
        "# Training and Testing Data Split"
      ],
      "metadata": {
        "id": "d8dCWXrmVnFR"
      }
    },
    {
      "cell_type": "code",
      "source": [
        "# To directly import processed data\n",
        "import pandas as pd\n",
        "data = pd.read_csv(f'{data_dir}/data_text_processed.csv')"
      ],
      "metadata": {
        "id": "XrfeqAaTkz5h"
      },
      "execution_count": null,
      "outputs": []
    },
    {
      "cell_type": "code",
      "source": [
        "data.sample(5).iloc[0]['content']"
      ],
      "metadata": {
        "colab": {
          "base_uri": "https://localhost:8080/",
          "height": 108
        },
        "id": "UKu_zZ6UlKKX",
        "outputId": "a650a9bf-7d7f-47d4-a663-d11a8ac8f0c9"
      },
      "execution_count": null,
      "outputs": [
        {
          "output_type": "execute_result",
          "data": {
            "text/plain": [
              "'subject we owe you alot of money dear homeowner you have been pre approved for 400 000 with a low fixed rate this offer is being extended to you unconditionally and your credit is in no way a factor take advantage of this limited time opportunity just answer only a few questions at our site and we can give you an approval in under 30 seconds it s that simple regards davis mims prime lending llc database deletion http www refin xnd com r php'"
            ],
            "application/vnd.google.colaboratory.intrinsic+json": {
              "type": "string"
            }
          },
          "metadata": {},
          "execution_count": 23
        }
      ]
    },
    {
      "cell_type": "code",
      "source": [
        "from sklearn.model_selection import train_test_split\n",
        "\n",
        "X_train, X_test, y_train, y_test = train_test_split(data['content'], data['is_spam'],\\\n",
        "                                                    test_size=0.2, random_state=42)"
      ],
      "metadata": {
        "id": "yHhzGtK3Vo4Q"
      },
      "execution_count": null,
      "outputs": []
    },
    {
      "cell_type": "markdown",
      "source": [
        "# Preparing Model - Finetuning BERT\n",
        "\n",
        "For Finetuning, I will be using transformers library developed by [Hugging Face](https://huggingface.co/docs/transformers/en/index)"
      ],
      "metadata": {
        "id": "xa38KQM4VMlr"
      }
    },
    {
      "cell_type": "code",
      "source": [
        "from transformers import BertTokenizer, BertForSequenceClassification\n",
        "import torch\n",
        "\n",
        "# Load the BERT tokenizer\n",
        "tokenizer = BertTokenizer.from_pretrained('bert-base-uncased')\n",
        "\n",
        "# Tokenize the dataset\n",
        "def tokenize_data(text_list, max_length=128):\n",
        "    return tokenizer(\n",
        "        text_list,\n",
        "        padding=True,\n",
        "        truncation=True,\n",
        "        max_length=max_length,\n",
        "        return_tensors='pt')\n",
        "\n",
        "train_encodings = tokenize_data(X_train.tolist())\n",
        "test_encodings = tokenize_data(X_test.tolist())\n",
        "\n",
        "# Convert labels to tensors\n",
        "y_train = torch.tensor(y_train.values)\n",
        "y_test = torch.tensor(y_test.values)\n",
        "\n",
        "# Load the BERT model for sequence classification\n",
        "model = BertForSequenceClassification.from_pretrained('bert-base-uncased', num_labels=2)\n",
        "\n",
        "device = torch.device('cuda' if torch.cuda.is_available() else 'cpu')\n",
        "print(f'Using device: {device}')\n",
        "\n",
        "model.to(device)"
      ],
      "metadata": {
        "colab": {
          "base_uri": "https://localhost:8080/",
          "height": 1000,
          "referenced_widgets": [
            "d0045402c23a48fe8c95487c1fb37d09",
            "bc6f0fc430e14896ad0ca275fd750792",
            "2020c37c324b4fc5bd4c2066b5c0fc3f",
            "dfaaf057d0f148eda1e51329c3c1b9b9",
            "348f8b752a6b4c15bb2c0ddf2c699ed0",
            "8fec8603ad3b4a19bc47f9ae9c148e85",
            "ac2313b14e034f84a849ba6c713a6ec9",
            "dae95fbf37a54bd38bd6006360798fcf",
            "eee6d928a99e49cf90ce32d21e097603",
            "161918aa04a24c2b8eec7760fea0e90a",
            "40f0ce3fab1c4fc0a2f33db62429b03a",
            "3c4652cc0fac4c66832681565e249d41",
            "e94c094ca8a646239d64c738f8837af1",
            "7c45b6276dba4cc995d32fc0b6cd2ddd",
            "efb4a15243314621975f40cc680d4f10",
            "f2020ec29896440c8e4dca2cba5c530a",
            "9af1707ff29e4a46bcd3d5fdb6e37d5f",
            "9f100d53abc342f3b2286b3bb81f4ffb",
            "5e5eb7c62bc8465795f1e881b3f10078",
            "55d8b8eb78c249169009626440ee1402",
            "2d1156b269a54adc9c54bd0239f17de6",
            "ad713f47cd654d9c9d61cd66ee194d6c",
            "e19bfd837a964c5f9a62d6e69b5f76e2",
            "e52facc1fad94e60a889aa0b351a199c",
            "813d580e547149459969fe882a895eb7",
            "2b266c44d005426f8e6905f113a9d695",
            "bbe83085d9094aa2a040341e0d226ada",
            "00b081f382b04495959b067f2e08a268",
            "7916e8ded1ca4612a4b766f0b71cd95c",
            "3dfac7c022b1492fb585c36398b05e51",
            "cdf81398298443a49ffa0b594b44e96c",
            "30f64f8bcfda4aa0b73b9db6694bd1fb",
            "306972b0fadc48f7b1aa1d5dc351cdb0",
            "8aab54ffa2314604b0775b7735ffae77",
            "f0c5c2bf07d74b43808dcac395520c4d",
            "4ea4426c35264d9bb311b8e81494e6d4",
            "dd97dfd312004402bd2a656d3f1d3d73",
            "490bc0ed2c434ff689cb90b5df4b3296",
            "78023fa207ed4f29a8336dd06e00ad3f",
            "604a165a1fdb480fae10e244fb0d4d86",
            "005b9a75776e4ec6aeb8db1d70c1c83d",
            "dba6d26da27e47b3970f013965542dc5",
            "109717043e9e43c7b2b64e193fb1a440",
            "214754a52c6c4ca9816455c8c4764021",
            "7724d9739241439a941dab7390eaeeb1",
            "ba3d60e5ec68473e8a036176c1db1f73",
            "af65d419c8bc41208bc7f0eb3bb1ed4c",
            "9c3d382819c647fa9bbae0a59d4b2414",
            "0ca2c8368e7c48d587ebd7f9e93d78d9",
            "5061c7d0790c47e69b078cb4dbe8ab78",
            "1358c124540e49f199e10f5c96203e23",
            "efae854f6050402aa0fdcedc3825f102",
            "5a871236e5914611a432dc1d49df274b",
            "aa0464a8764549a48f47073406bc88b9",
            "b0a811fc8d294fe2959bc3b2de8ddcf2"
          ]
        },
        "id": "hzsM4Vf0VZ-N",
        "outputId": "eb3fede0-31f4-4098-9701-5c521cbd3fe1"
      },
      "execution_count": null,
      "outputs": [
        {
          "output_type": "stream",
          "name": "stderr",
          "text": [
            "/usr/local/lib/python3.11/dist-packages/huggingface_hub/utils/_auth.py:94: UserWarning: \n",
            "The secret `HF_TOKEN` does not exist in your Colab secrets.\n",
            "To authenticate with the Hugging Face Hub, create a token in your settings tab (https://huggingface.co/settings/tokens), set it as secret in your Google Colab and restart your session.\n",
            "You will be able to reuse this secret in all of your notebooks.\n",
            "Please note that authentication is recommended but still optional to access public models or datasets.\n",
            "  warnings.warn(\n"
          ]
        },
        {
          "output_type": "display_data",
          "data": {
            "text/plain": [
              "tokenizer_config.json:   0%|          | 0.00/48.0 [00:00<?, ?B/s]"
            ],
            "application/vnd.jupyter.widget-view+json": {
              "version_major": 2,
              "version_minor": 0,
              "model_id": "d0045402c23a48fe8c95487c1fb37d09"
            }
          },
          "metadata": {}
        },
        {
          "output_type": "display_data",
          "data": {
            "text/plain": [
              "vocab.txt:   0%|          | 0.00/232k [00:00<?, ?B/s]"
            ],
            "application/vnd.jupyter.widget-view+json": {
              "version_major": 2,
              "version_minor": 0,
              "model_id": "3c4652cc0fac4c66832681565e249d41"
            }
          },
          "metadata": {}
        },
        {
          "output_type": "display_data",
          "data": {
            "text/plain": [
              "tokenizer.json:   0%|          | 0.00/466k [00:00<?, ?B/s]"
            ],
            "application/vnd.jupyter.widget-view+json": {
              "version_major": 2,
              "version_minor": 0,
              "model_id": "e19bfd837a964c5f9a62d6e69b5f76e2"
            }
          },
          "metadata": {}
        },
        {
          "output_type": "display_data",
          "data": {
            "text/plain": [
              "config.json:   0%|          | 0.00/570 [00:00<?, ?B/s]"
            ],
            "application/vnd.jupyter.widget-view+json": {
              "version_major": 2,
              "version_minor": 0,
              "model_id": "8aab54ffa2314604b0775b7735ffae77"
            }
          },
          "metadata": {}
        },
        {
          "output_type": "stream",
          "name": "stderr",
          "text": [
            "Xet Storage is enabled for this repo, but the 'hf_xet' package is not installed. Falling back to regular HTTP download. For better performance, install the package with: `pip install huggingface_hub[hf_xet]` or `pip install hf_xet`\n",
            "WARNING:huggingface_hub.file_download:Xet Storage is enabled for this repo, but the 'hf_xet' package is not installed. Falling back to regular HTTP download. For better performance, install the package with: `pip install huggingface_hub[hf_xet]` or `pip install hf_xet`\n"
          ]
        },
        {
          "output_type": "display_data",
          "data": {
            "text/plain": [
              "model.safetensors:   0%|          | 0.00/440M [00:00<?, ?B/s]"
            ],
            "application/vnd.jupyter.widget-view+json": {
              "version_major": 2,
              "version_minor": 0,
              "model_id": "7724d9739241439a941dab7390eaeeb1"
            }
          },
          "metadata": {}
        },
        {
          "output_type": "stream",
          "name": "stderr",
          "text": [
            "Some weights of BertForSequenceClassification were not initialized from the model checkpoint at bert-base-uncased and are newly initialized: ['classifier.bias', 'classifier.weight']\n",
            "You should probably TRAIN this model on a down-stream task to be able to use it for predictions and inference.\n"
          ]
        },
        {
          "output_type": "stream",
          "name": "stdout",
          "text": [
            "Using device: cuda\n"
          ]
        },
        {
          "output_type": "execute_result",
          "data": {
            "text/plain": [
              "BertForSequenceClassification(\n",
              "  (bert): BertModel(\n",
              "    (embeddings): BertEmbeddings(\n",
              "      (word_embeddings): Embedding(30522, 768, padding_idx=0)\n",
              "      (position_embeddings): Embedding(512, 768)\n",
              "      (token_type_embeddings): Embedding(2, 768)\n",
              "      (LayerNorm): LayerNorm((768,), eps=1e-12, elementwise_affine=True)\n",
              "      (dropout): Dropout(p=0.1, inplace=False)\n",
              "    )\n",
              "    (encoder): BertEncoder(\n",
              "      (layer): ModuleList(\n",
              "        (0-11): 12 x BertLayer(\n",
              "          (attention): BertAttention(\n",
              "            (self): BertSdpaSelfAttention(\n",
              "              (query): Linear(in_features=768, out_features=768, bias=True)\n",
              "              (key): Linear(in_features=768, out_features=768, bias=True)\n",
              "              (value): Linear(in_features=768, out_features=768, bias=True)\n",
              "              (dropout): Dropout(p=0.1, inplace=False)\n",
              "            )\n",
              "            (output): BertSelfOutput(\n",
              "              (dense): Linear(in_features=768, out_features=768, bias=True)\n",
              "              (LayerNorm): LayerNorm((768,), eps=1e-12, elementwise_affine=True)\n",
              "              (dropout): Dropout(p=0.1, inplace=False)\n",
              "            )\n",
              "          )\n",
              "          (intermediate): BertIntermediate(\n",
              "            (dense): Linear(in_features=768, out_features=3072, bias=True)\n",
              "            (intermediate_act_fn): GELUActivation()\n",
              "          )\n",
              "          (output): BertOutput(\n",
              "            (dense): Linear(in_features=3072, out_features=768, bias=True)\n",
              "            (LayerNorm): LayerNorm((768,), eps=1e-12, elementwise_affine=True)\n",
              "            (dropout): Dropout(p=0.1, inplace=False)\n",
              "          )\n",
              "        )\n",
              "      )\n",
              "    )\n",
              "    (pooler): BertPooler(\n",
              "      (dense): Linear(in_features=768, out_features=768, bias=True)\n",
              "      (activation): Tanh()\n",
              "    )\n",
              "  )\n",
              "  (dropout): Dropout(p=0.1, inplace=False)\n",
              "  (classifier): Linear(in_features=768, out_features=2, bias=True)\n",
              ")"
            ]
          },
          "metadata": {},
          "execution_count": 25
        }
      ]
    },
    {
      "cell_type": "markdown",
      "source": [
        "# Training the model\n",
        "__Note__: Training the model on a CPU may take more than hour. So, it is desired to use the GPU on google colab."
      ],
      "metadata": {
        "id": "1ZwrgPEMMAtF"
      }
    },
    {
      "cell_type": "code",
      "source": [
        "from torch.utils.data import DataLoader, TensorDataset\n",
        "from torch.optim import AdamW # Import AdamW from torch.optim\n",
        "from tqdm import tqdm\n",
        "import time\n",
        "\n",
        "# Create a dataset object\n",
        "train_dataset = TensorDataset(train_encodings['input_ids'], \\\n",
        "                              train_encodings['attention_mask'], y_train)\n",
        "train_loader = DataLoader(train_dataset, batch_size=16, shuffle=True)\n",
        "\n",
        "# Set up the optimizer\n",
        "optimizer = AdamW(model.parameters(), lr=5e-5)\n",
        "\n",
        "# Training loop\n",
        "start = time.time()\n",
        "epochs = 3\n",
        "model.train()\n",
        "for epoch in range(epochs):\n",
        "    print(f\"Epoch: {epoch + 1}/{epochs}\")\n",
        "    for batch in tqdm(train_loader):\n",
        "        input_ids, attention_mask, labels = batch\n",
        "        input_ids, attention_mask, labels = input_ids.to(device), attention_mask.to(device), labels.to(device)\n",
        "\n",
        "        optimizer.zero_grad()\n",
        "\n",
        "        # Forward Pass\n",
        "        outputs = model(input_ids=input_ids, attention_mask=attention_mask, labels=labels)\n",
        "        loss = outputs.loss\n",
        "\n",
        "        # Backward Pass\n",
        "        loss.backward()\n",
        "        optimizer.step()\n",
        "    print(f\"Epoch {epoch + 1} completed. Loss: {loss.item()}\")\n",
        "end = time.time()\n",
        "\n",
        "print(f\"Time taken: {end - start}\")"
      ],
      "metadata": {
        "colab": {
          "base_uri": "https://localhost:8080/"
        },
        "id": "pJVNllBNZafz",
        "outputId": "13ad5085-e8e9-43bc-d4b5-51acddae55ee"
      },
      "execution_count": null,
      "outputs": [
        {
          "output_type": "stream",
          "name": "stdout",
          "text": [
            "Epoch: 1/3\n"
          ]
        },
        {
          "output_type": "stream",
          "name": "stderr",
          "text": [
            "100%|██████████| 150/150 [00:53<00:00,  2.81it/s]\n"
          ]
        },
        {
          "output_type": "stream",
          "name": "stdout",
          "text": [
            "Epoch 1 completed. Loss: 0.07670741528272629\n",
            "Epoch: 2/3\n"
          ]
        },
        {
          "output_type": "stream",
          "name": "stderr",
          "text": [
            "100%|██████████| 150/150 [00:53<00:00,  2.82it/s]\n"
          ]
        },
        {
          "output_type": "stream",
          "name": "stdout",
          "text": [
            "Epoch 2 completed. Loss: 0.10959471017122269\n",
            "Epoch: 3/3\n"
          ]
        },
        {
          "output_type": "stream",
          "name": "stderr",
          "text": [
            "100%|██████████| 150/150 [00:52<00:00,  2.83it/s]\n"
          ]
        },
        {
          "output_type": "stream",
          "name": "stdout",
          "text": [
            "Epoch 3 completed. Loss: 0.0005813972093164921\n",
            "Time taken: 160.40372133255005\n"
          ]
        }
      ]
    },
    {
      "cell_type": "markdown",
      "source": [
        "Took 1.5 hr to train in 3 epochs on CPU\n",
        "\n",
        "Took 2 mins and 42 seconds on GPU"
      ],
      "metadata": {
        "id": "Lfij5DNnLv5k"
      }
    },
    {
      "cell_type": "markdown",
      "source": [
        "Only 3 Epoch is good enough to get the reduced loss of _0.0004_ and accuracy of nearly _100%_ because BERT is already pre-trained on a huge corpus of the data."
      ],
      "metadata": {
        "id": "zXo8t7yGJ0sG"
      }
    },
    {
      "cell_type": "markdown",
      "source": [
        "# Evaluate the model"
      ],
      "metadata": {
        "id": "o0nzQw9stbId"
      }
    },
    {
      "cell_type": "code",
      "source": [
        "from torch.utils.data import DataLoader, TensorDataset\n",
        "\n",
        "# Create a dataset object for testing\n",
        "test_dataset = TensorDataset(test_encodings['input_ids'], test_encodings['attention_mask'], y_test)\n",
        "test_loader = DataLoader(test_dataset, batch_size=16, shuffle=False)"
      ],
      "metadata": {
        "id": "kR2TLSPaGhWF"
      },
      "execution_count": null,
      "outputs": []
    },
    {
      "cell_type": "code",
      "source": [
        "from sklearn.metrics import accuracy_score\n",
        "from tqdm import tqdm\n",
        "import torch, sys\n",
        "\n",
        "model.eval()\n",
        "\n",
        "predictions = []\n",
        "true_labels = []\n",
        "\n",
        "with torch.no_grad():\n",
        "    for batch in tqdm(test_loader, file=sys.stdout, bar_format=\"{l_bar}{bar}| {n_fmt}/{total_fmt}\"):\n",
        "        input_ids, attention_mask, labels = batch\n",
        "        input_ids, attention_mask, labels = input_ids.to(device), attention_mask.to(device), labels.to(device)\n",
        "\n",
        "        outputs = model(input_ids=input_ids, attention_mask=attention_mask)\n",
        "        logits = outputs.logits\n",
        "        preds = torch.argmax(logits, dim=1).flatten()\n",
        "        predictions.extend(preds.cpu().numpy())\n",
        "        true_labels.extend(labels.cpu().numpy())\n",
        "\n",
        "# Calculate accuracy\n",
        "accuracy = accuracy_score(true_labels, predictions)\n",
        "print(f\"Model Accuracy: {accuracy * 100:.2f}%\")"
      ],
      "metadata": {
        "colab": {
          "base_uri": "https://localhost:8080/"
        },
        "id": "q8In9gg7vdu8",
        "outputId": "e8a2a1f5-9309-4aa0-a9b0-b3f664f1f9fd"
      },
      "execution_count": null,
      "outputs": [
        {
          "output_type": "stream",
          "name": "stdout",
          "text": [
            "100%|██████████| 38/38\n",
            "Model Accuracy: 98.33%\n"
          ]
        }
      ]
    },
    {
      "cell_type": "markdown",
      "source": [
        "# Confusion Matrix"
      ],
      "metadata": {
        "id": "VUM_V8CzKTR4"
      }
    },
    {
      "cell_type": "code",
      "source": [
        "from sklearn.metrics import confusion_matrix\n",
        "import seaborn as sns\n",
        "import matplotlib.pyplot as plt\n",
        "\n",
        "cm = confusion_matrix(true_labels, predictions)\n",
        "# Plot heatmap of confusion matrix with spam and not spam labels\n",
        "plt.figure(figsize=(5, 4))\n",
        "sns.heatmap(cm, annot=True, fmt='d', cmap='Blues',\n",
        "            xticklabels=['Ham', 'Spam'], yticklabels=['Ham', 'Spam'])\n",
        "plt.xlabel('Predicted')\n",
        "plt.ylabel('Actual')\n",
        "plt.show()"
      ],
      "metadata": {
        "colab": {
          "base_uri": "https://localhost:8080/",
          "height": 396
        },
        "id": "rkpUOtEWHHBW",
        "outputId": "37e5e2ac-8588-4b7b-89a5-31a769042865"
      },
      "execution_count": null,
      "outputs": [
        {
          "output_type": "display_data",
          "data": {
            "text/plain": [
              "<Figure size 500x400 with 2 Axes>"
            ],
            "image/png": "[encoded data removed]"
          },
          "metadata": {}
        }
      ]
    },
    {
      "cell_type": "markdown",
      "source": [
        "# Classification Report"
      ],
      "metadata": {
        "id": "OSX5yO-IJqjb"
      }
    },
    {
      "cell_type": "code",
      "source": [
        "from sklearn.metrics import classification_report\n",
        "\n",
        "report = classification_report(true_labels, predictions)\n",
        "print(report)\n"
      ],
      "metadata": {
        "colab": {
          "base_uri": "https://localhost:8080/"
        },
        "id": "miVVaYhPIlQ1",
        "outputId": "c8b39c7c-c58f-438c-b978-67934f4b80ea"
      },
      "execution_count": null,
      "outputs": [
        {
          "output_type": "stream",
          "name": "stdout",
          "text": [
            "              precision    recall  f1-score   support\n",
            "\n",
            "           0       0.98      0.99      0.98       285\n",
            "           1       0.99      0.98      0.98       315\n",
            "\n",
            "    accuracy                           0.98       600\n",
            "   macro avg       0.98      0.98      0.98       600\n",
            "weighted avg       0.98      0.98      0.98       600\n",
            "\n"
          ]
        }
      ]
    },
    {
      "cell_type": "markdown",
      "source": [
        "# Saving the Model"
      ],
      "metadata": {
        "id": "msHBaMQOK8NO"
      }
    },
    {
      "cell_type": "code",
      "source": [
        "from datetime import date\n",
        "today = date.today()\n",
        "date_string = today.strftime(\"%d-%m-%Y\")\n",
        "\n",
        "\n",
        "# To save model train on a GPU\n",
        "trained_models_dir = '/content/drive/MyDrive/trained_models'\n",
        "model.save_pretrained(f'{trained_models_dir}/bert-email-spam-classifier_{date_string}')\n",
        "tokenizer.save_pretrained(f'{trained_models_dir}/bert-email-spam-classifier_{date_string}')"
      ],
      "metadata": {
        "colab": {
          "base_uri": "https://localhost:8080/"
        },
        "id": "yq2beUetK-18",
        "outputId": "990d6afb-35a5-4cdd-c0a0-bb6cd0bc6019"
      },
      "execution_count": null,
      "outputs": [
        {
          "output_type": "execute_result",
          "data": {
            "text/plain": [
              "('/content/drive/MyDrive/datasets/enron6/saved_bert_model_cuda/tokenizer_config.json',\n",
              " '/content/drive/MyDrive/datasets/enron6/saved_bert_model_cuda/special_tokens_map.json',\n",
              " '/content/drive/MyDrive/datasets/enron6/saved_bert_model_cuda/vocab.txt',\n",
              " '/content/drive/MyDrive/datasets/enron6/saved_bert_model_cuda/added_tokens.json')"
            ]
          },
          "metadata": {},
          "execution_count": 15
        }
      ]
    },
    {
      "cell_type": "markdown",
      "source": [
        "# Loading the Saved Model"
      ],
      "metadata": {
        "id": "6jao-XF7MTsY"
      }
    },
    {
      "cell_type": "code",
      "source": [
        "from google.colab import drive\n",
        "drive.mount('/content/drive')"
      ],
      "metadata": {
        "id": "gfuMq4mPuFuV"
      },
      "execution_count": null,
      "outputs": []
    },
    {
      "cell_type": "code",
      "source": [
        "import torch\n",
        "device = torch.device('cuda' if torch.cuda.is_available() else 'cpu')\n",
        "print(f'Using device: {device}')\n",
        "\n",
        "model_path = f'/content/drive/MyDrive/trained_models/bert-email-spam-classifier_08-10-2024'"
      ],
      "metadata": {
        "colab": {
          "base_uri": "https://localhost:8080/"
        },
        "id": "Zzo49ZZLPze0",
        "outputId": "b60cf07b-3a94-44c0-d40d-a6061061071b"
      },
      "execution_count": null,
      "outputs": [
        {
          "output_type": "stream",
          "name": "stdout",
          "text": [
            "Using device: cuda\n"
          ]
        }
      ]
    },
    {
      "cell_type": "code",
      "source": [
        "from transformers import BertTokenizer, BertForSequenceClassification\n",
        "import torch\n",
        "\n",
        "loaded_model = BertForSequenceClassification.from_pretrained(model_path)\n",
        "loaded_tokenizer = BertTokenizer.from_pretrained(model_path)\n",
        "\n",
        "device = torch.device('cuda' if torch.cuda.is_available() else 'cpu')\n",
        "print(f'Using device: {device}')\n",
        "\n",
        "loaded_model.to(device)"
      ],
      "metadata": {
        "colab": {
          "base_uri": "https://localhost:8080/"
        },
        "id": "frUaBzscMTZ4",
        "outputId": "acf0b16c-e7f5-4071-a487-23d478ea7070"
      },
      "execution_count": null,
      "outputs": [
        {
          "output_type": "stream",
          "name": "stdout",
          "text": [
            "Using device: cuda\n"
          ]
        },
        {
          "output_type": "execute_result",
          "data": {
            "text/plain": [
              "BertForSequenceClassification(\n",
              "  (bert): BertModel(\n",
              "    (embeddings): BertEmbeddings(\n",
              "      (word_embeddings): Embedding(30522, 768, padding_idx=0)\n",
              "      (position_embeddings): Embedding(512, 768)\n",
              "      (token_type_embeddings): Embedding(2, 768)\n",
              "      (LayerNorm): LayerNorm((768,), eps=1e-12, elementwise_affine=True)\n",
              "      (dropout): Dropout(p=0.1, inplace=False)\n",
              "    )\n",
              "    (encoder): BertEncoder(\n",
              "      (layer): ModuleList(\n",
              "        (0-11): 12 x BertLayer(\n",
              "          (attention): BertAttention(\n",
              "            (self): BertSdpaSelfAttention(\n",
              "              (query): Linear(in_features=768, out_features=768, bias=True)\n",
              "              (key): Linear(in_features=768, out_features=768, bias=True)\n",
              "              (value): Linear(in_features=768, out_features=768, bias=True)\n",
              "              (dropout): Dropout(p=0.1, inplace=False)\n",
              "            )\n",
              "            (output): BertSelfOutput(\n",
              "              (dense): Linear(in_features=768, out_features=768, bias=True)\n",
              "              (LayerNorm): LayerNorm((768,), eps=1e-12, elementwise_affine=True)\n",
              "              (dropout): Dropout(p=0.1, inplace=False)\n",
              "            )\n",
              "          )\n",
              "          (intermediate): BertIntermediate(\n",
              "            (dense): Linear(in_features=768, out_features=3072, bias=True)\n",
              "            (intermediate_act_fn): GELUActivation()\n",
              "          )\n",
              "          (output): BertOutput(\n",
              "            (dense): Linear(in_features=3072, out_features=768, bias=True)\n",
              "            (LayerNorm): LayerNorm((768,), eps=1e-12, elementwise_affine=True)\n",
              "            (dropout): Dropout(p=0.1, inplace=False)\n",
              "          )\n",
              "        )\n",
              "      )\n",
              "    )\n",
              "    (pooler): BertPooler(\n",
              "      (dense): Linear(in_features=768, out_features=768, bias=True)\n",
              "      (activation): Tanh()\n",
              "    )\n",
              "  )\n",
              "  (dropout): Dropout(p=0.1, inplace=False)\n",
              "  (classifier): Linear(in_features=768, out_features=2, bias=True)\n",
              ")"
            ]
          },
          "metadata": {},
          "execution_count": 18
        }
      ]
    },
    {
      "cell_type": "markdown",
      "source": [
        "# Make Predictions on new Data"
      ],
      "metadata": {
        "id": "fkUUbOKPKA3R"
      }
    },
    {
      "cell_type": "code",
      "source": [
        "def predict_spam_with_loaded_model(text):\n",
        "    model.eval()\n",
        "    inputs = tokenizer(text, return_tensors='pt', padding=True, truncation=True, max_length=128)\n",
        "    inputs = {key: value.to(device) for key, value in inputs.items()}  # Move inputs to GPU if available\n",
        "\n",
        "    with torch.no_grad():\n",
        "        logits = model(**inputs).logits\n",
        "        prediction = torch.argmax(logits, dim=1).item()\n",
        "    return 'Spam' if prediction == 1 else 'Not Spam'"
      ],
      "metadata": {
        "id": "H0UF-RT_KCjx"
      },
      "execution_count": null,
      "outputs": []
    },
    {
      "cell_type": "code",
      "source": [
        "# Example usage of the prediction function\n",
        "print(predict_spam_with_loaded_model(\"Congratulations! You've won a free iPhone!\"))\n",
        "print(predict_spam_with_loaded_model(\"Subject: Meeting Re-Scheduled to 3 PM  Hi Everyone! Our meeting is rescheduled by 1 hr late sorry for the inconvenience...\"))"
      ],
      "metadata": {
        "colab": {
          "base_uri": "https://localhost:8080/"
        },
        "id": "3GjN3T0WQQUw",
        "outputId": "59dc6a5f-ffa9-40a3-fc0b-0fbf2dd0bcae"
      },
      "execution_count": null,
      "outputs": [
        {
          "output_type": "stream",
          "name": "stdout",
          "text": [
            "Not Spam\n",
            "Not Spam\n"
          ]
        }
      ]
    },
    {
      "cell_type": "markdown",
      "source": [
        "# Predicting an original SPAM and Not Spam email"
      ],
      "metadata": {
        "id": "i__pmFV4MOb-"
      }
    },
    {
      "cell_type": "code",
      "source": [
        "spam_email = '''\n",
        "Subject: Urgent attention required for best work\n",
        "\n",
        "Urgent attention required for best work\n",
        "Services:\n",
        "\n",
        "    Udyam (MSME) Registration\n",
        "    Import Export Code (IEC) Registration\n",
        "    FSSAI Registration\n",
        "    Trade Mark Registration\n",
        "    PF Registration & Return Filing\n",
        "    GST Return Filing\n",
        "    80G & 12A Registration\n",
        "    NGO DARPAN\n",
        "    ISO Registration\n",
        "    Startup India Registration\n",
        "    CSR Registration\n",
        "\n",
        "Warm Regards\n",
        "Name - SUMIT TIWARI\n",
        "Mobile - 8750906680\n",
        "'''\n",
        "\n",
        "ham_email = '''\n",
        "Subject: Workday maintenance window\n",
        "Hi All,\n",
        "I would like to inform you about an upcoming Workday maintenance window that will result in temporary system blackouts over the next few days.\n",
        "'''"
      ],
      "metadata": {
        "id": "Tc7pDAA1V6qw"
      },
      "execution_count": null,
      "outputs": []
    },
    {
      "cell_type": "code",
      "source": [
        "print(predict_spam_with_loaded_model(spam_email))\n",
        "print(predict_spam_with_loaded_model(ham_email))"
      ],
      "metadata": {
        "colab": {
          "base_uri": "https://localhost:8080/"
        },
        "id": "tYG5vGqUWArw",
        "outputId": "54bb87c3-31d0-45a6-fc1c-9d06f98f1da0"
      },
      "execution_count": null,
      "outputs": [
        {
          "output_type": "stream",
          "name": "stdout",
          "text": [
            "Spam\n",
            "Not Spam\n"
          ]
        }
      ]
    },
    {
      "cell_type": "markdown",
      "source": [
        "# Check the Memory Usage of the Model"
      ],
      "metadata": {
        "id": "97ucH24zOW6Z"
      }
    },
    {
      "cell_type": "code",
      "source": [
        "# Display the number of parameters in the model\n",
        "total_params = sum(p.numel() for p in loaded_model.parameters())\n",
        "print(f'Total number of parameters: {total_params}')"
      ],
      "metadata": {
        "colab": {
          "base_uri": "https://localhost:8080/"
        },
        "id": "pnd9AnihOQsb",
        "outputId": "12e70568-5f5d-412d-852c-470eaf3a9b5c"
      },
      "execution_count": null,
      "outputs": [
        {
          "output_type": "stream",
          "name": "stdout",
          "text": [
            "Total number of parameters: 109483778\n"
          ]
        }
      ]
    },
    {
      "cell_type": "markdown",
      "source": [
        "To calculate memory in bytes:\n",
        "\n",
        "```Memory in bytes = Total no. of parameters * 4 bytes```"
      ],
      "metadata": {
        "id": "orzPr8ihOk_V"
      }
    },
    {
      "cell_type": "code",
      "source": [
        "# Calculate the Memory Consumption of the Model\n",
        "memory_consumption = total_params * 4\n",
        "print(f'Memory Consumption: {memory_consumption} bytes')\n",
        "print(f'Memory Consumption: {memory_consumption / (1024 ** 2):.2f} MB')\n",
        "print(f'Memory Consumption: {memory_consumption / (1024 ** 3):.3f} GB')"
      ],
      "metadata": {
        "colab": {
          "base_uri": "https://localhost:8080/"
        },
        "id": "DrLBGawAOdwS",
        "outputId": "a640c4bc-42a3-4e01-b1ef-ed9853b5793f"
      },
      "execution_count": null,
      "outputs": [
        {
          "output_type": "stream",
          "name": "stdout",
          "text": [
            "Memory Consumption: 437935112 bytes\n",
            "Memory Consumption: 417.65 MB\n",
            "Memory Consumption: 0.408 GB\n"
          ]
        }
      ]
    },
    {
      "cell_type": "markdown",
      "source": [
        "# Thanks for reading through...\n",
        " - Checkout my other projects on [GitHub](https://github.com/tapaswi-v-s/)\n",
        " - Connect with me on [LinkedIn](https://www.linkedin.com/in/tapaswi-v-s/)"
      ],
      "metadata": {
        "id": "8JLn3jxASxAd"
      }
    }
  ]
}